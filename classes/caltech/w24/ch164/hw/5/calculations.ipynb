{
 "cells": [
  {
   "cell_type": "code",
   "execution_count": 2,
   "metadata": {},
   "outputs": [
    {
     "name": "stdout",
     "output_type": "stream",
     "text": [
      "kT \\left(\\log{\\left(N_{A} \\right)} - \\log{\\left(q_{A} \\right)}\\right)\n"
     ]
    }
   ],
   "source": [
    "from sympy import symbols, diff, log, latex\n",
    "\n",
    "# Define symbols\n",
    "kT, N_A, N_B, q_A, q_B = symbols('kT N_A N_B q_A q_B')\n",
    "\n",
    "# Define the free energy expression using Stirling's approximation\n",
    "F = kT * (N_A * log(N_A) - N_A - N_A * log(q_A) + N_B * log(N_B) - N_B - N_B * log(q_B))\n",
    "\n",
    "# Compute the derivatives\n",
    "mu_A = diff(F, N_A)\n",
    "mu_B = diff(F, N_B)\n",
    "\n",
    "# Display the results in LaTeX\n",
    "mu_A_latex = mu_A.simplify().doit()\n",
    "mu_B_latex = mu_B.simplify().doit()\n",
    "\n",
    "print(latex(mu_A_latex))\n",
    "# latex(mu_B_latex)\n"
   ]
  },
  {
   "cell_type": "code",
   "execution_count": 2,
   "metadata": {},
   "outputs": [
    {
     "data": {
      "text/latex": [
       "$\\displaystyle 0.00110582457135813$"
      ],
      "text/plain": [
       "0.00110582457135813"
      ]
     },
     "execution_count": 2,
     "metadata": {},
     "output_type": "execute_result"
    }
   ],
   "source": [
    "from sympy import symbols, exp, sqrt, pi, log, solve\n",
    "\n",
    "# Defining symbols\n",
    "T, V, h, k_B, Theta_rot, Theta_vib, epsilon_0_0, m_I, g_e_I2, g_e_I, sigma_AB = symbols(\n",
    "    'T V h k_B Theta_rot Theta_vib epsilon_0_0 m_I g_e_I2 g_e_I sigma_AB')\n",
    "\n",
    "# Given constants\n",
    "given_constants = {\n",
    "    h: 6.62607015e-34,  # Planck's constant, J*s\n",
    "    k_B: 1.380649e-23,  # Boltzmann's constant, J/K\n",
    "    Theta_rot: 0.054,  # Rotational temperature, K\n",
    "    Theta_vib: 310,  # Vibrational temperature, K\n",
    "    epsilon_0_0: -1.54 * 1.602176634e-19,  # Ground state energy, J (converted from eV)\n",
    "    m_I: 126.90447 * 1.660539040e-27,  # Mass of iodine atom, kg (converted from u to kg)\n",
    "    g_e_I2: 1,  # Degeneracy of iodine molecule\n",
    "    g_e_I: 4,  # Degeneracy of iodine atom\n",
    "    sigma_AB: 2,  # Symmetry number for I2\n",
    "    V: 1  # Assuming volume of 1 m^3 for simplicity\n",
    "}\n",
    "\n",
    "# Nuclear spin quantum numbers for iodine (diatomic), assuming I_A = I_B = 5/2\n",
    "I_A = I_B = 5/2\n",
    "\n",
    "# Calculate partition functions\n",
    "# Thermal de Broglie wavelength\n",
    "lambda_I = h / sqrt(2 * pi * m_I * k_B * T)\n",
    "lambda_I2 = h / sqrt(2 * pi * (2 * m_I) * k_B * T)\n",
    "\n",
    "# Internal partition function q_int for I2\n",
    "q_int_I2 = g_e_I2 * (2 * I_A + 1) * (2 * I_B + 1) * exp(-epsilon_0_0 / (k_B * T)) * (T / Theta_rot) * (1 / (1 - exp(-Theta_vib / T))) / sigma_AB\n",
    "\n",
    "# Internal partition function q_int for I\n",
    "q_int_I = g_e_I  # For iodine atom, considering only electronic degeneracy\n",
    "\n",
    "# Total partition function for I2 and I\n",
    "q_I2 = (V / lambda_I2**3) * q_int_I2\n",
    "q_I = (V / lambda_I**3) * q_int_I\n",
    "\n",
    "# Simplify expressions with given constants\n",
    "q_I2_simplified = q_I2.subs(given_constants)\n",
    "q_I_simplified = q_I.subs(given_constants)\n",
    "\n",
    "# Calculate chemical potentials for I2 and I using the simplified partition functions\n",
    "mu_I2 = -k_B * T * log(q_I2_simplified / V)\n",
    "mu_I = -k_B * T * log(q_I_simplified / V)\n",
    "\n",
    "# Calculate the equilibrium constant K for the reaction I2 <-> 2I\n",
    "Delta_mu = mu_I2 - 2 * mu_I\n",
    "K_expression = exp(Delta_mu / (k_B * T))\n",
    "K_simplified = K_expression.simplify()\n",
    "\n",
    "# Substitute T=1000 K and V=1 m^3 into the expression for K to calculate its value at T=1000 K\n",
    "K_value_at_1000K = K_simplified.subs({T: 1000, V: 1})\n",
    "\n",
    "# Evaluate the expression\n",
    "K_value_at_1000K.evalf()\n",
    "\n",
    "#  Avogadro's number\n",
    "N_A = 6.02214076e+23  # mol^-1\n",
    "\n",
    "# Divide K by Avogadro's number to convert to terms of moles\n",
    "K_mols_divided = K_value_at_1000K / N_A\n",
    "\n",
    "K_mols_divided.evalf()\n"
   ]
  }
 ],
 "metadata": {
  "kernelspec": {
   "display_name": "pyscf_env",
   "language": "python",
   "name": "python3"
  },
  "language_info": {
   "codemirror_mode": {
    "name": "ipython",
    "version": 3
   },
   "file_extension": ".py",
   "mimetype": "text/x-python",
   "name": "python",
   "nbconvert_exporter": "python",
   "pygments_lexer": "ipython3",
   "version": "3.8.17"
  }
 },
 "nbformat": 4,
 "nbformat_minor": 2
}
