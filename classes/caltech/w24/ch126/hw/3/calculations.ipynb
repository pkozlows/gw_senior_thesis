{
 "cells": [
  {
   "cell_type": "code",
   "execution_count": 26,
   "metadata": {},
   "outputs": [
    {
     "name": "stdout",
     "output_type": "stream",
     "text": [
      "m_I = -1, E = 2.04e-26 J\n",
      "m_I = -1 -> m = 0, f = 3.08e+07 Hz\n",
      "m_I = -1 -> m = 1, f = 6.16e+07 Hz\n",
      "m_I = 0, E = 0.00e+00 J\n",
      "m_I = 0 -> m = -1, f = -3.08e+07 Hz\n",
      "m_I = 0 -> m = 1, f = 3.08e+07 Hz\n",
      "m_I = 1, E = -2.04e-26 J\n",
      "m_I = 1 -> m = -1, f = -6.16e+07 Hz\n",
      "m_I = 1 -> m = 0, f = -3.08e+07 Hz\n"
     ]
    }
   ],
   "source": [
    "import sympy as sp\n",
    "\n",
    "# Constants\n",
    "gamma_N = 1.9337798 * 10**7  # Gyromagnetic ratio in radians s^-1 T^-1\n",
    "B0 = 10  # Magnetic field strength in Tesla\n",
    "\n",
    "# Magnetic quantum numbers\n",
    "m_I_values = [-1, 0, 1]\n",
    "\n",
    "# reduced Planck's constant value\n",
    "hbar = 6.62607004 * 10**-34 / (2 * sp.pi)\n",
    "\n",
    "# Calculating the energy for each m_I\n",
    "energies = [-gamma_N * B0 * m_I * hbar for m_I in m_I_values]\n",
    "\n",
    "for m_I, energy in zip(m_I_values, energies):\n",
    "    energy_float = float(energy.evalf())  # Convert the Sympy expression to a float\n",
    "    print(\"m_I = {0}, E = {1:.2e} J\".format(m_I, energy_float))\n",
    "    for m, e in zip(m_I_values, energies):\n",
    "        # if the m_Is are different, calculate the transition energy\n",
    "        if m_I != m:\n",
    "            transition_energy = energy - e\n",
    "            # divide by plancks constant and not hbar because we want the frequency\n",
    "            transition_frequency = transition_energy / (6.62607004 * 10**-34)\n",
    "            transition_frequency_float = float(transition_frequency.evalf())\n",
    "            print(\"m_I = {0} -> m = {1}, f = {2:.2e} Hz\".format(m_I, m, transition_frequency_float))\n",
    "\n"
   ]
  },
  {
   "cell_type": "code",
   "execution_count": null,
   "metadata": {},
   "outputs": [],
   "source": []
  },
  {
   "cell_type": "code",
   "execution_count": 16,
   "metadata": {},
   "outputs": [
    {
     "name": "stdout",
     "output_type": "stream",
     "text": [
      "N_0 - N_1 = -5.01e-12 ppm\n",
      "N_0 - N_2 = -1.00e-11 ppm\n",
      "N_1 - N_2 = -5.01e-12 ppm\n"
     ]
    }
   ],
   "source": [
    "import sympy as sp\n",
    "\n",
    "# Constants\n",
    "gamma_N = 1.9337798 * 10**7  # Gyromagnetic ratio in radians s^-1 T^-1\n",
    "B0 = 10  # Magnetic field strength in Tesla\n",
    "k_B = 1.380649e-23  # Boltzmann's constant in J/K\n",
    "T = 295  # Temperature in Kelvin\n",
    "\n",
    "# Magnetic quantum numbers and energies\n",
    "m_I_values = [-1, 0, 1]\n",
    "energies = [-gamma_N * B0 * m_I for m_I in m_I_values]  # frequency for each m_I\n",
    "# convert this to energies by multiplying by the reduced Planck's constant\n",
    "rpc = 1.0545718e-34  # reduced Planck's constant in J s\n",
    "energies = [rpc * f for f in energies]\n",
    "\n",
    "# Beta (β = 1/(k_B * T))\n",
    "beta = 1 / (k_B * T)\n",
    "\n",
    "# get the population for each m_I in ppm\n",
    "N_j = [sp.exp(-beta * E) * 10**(-6) for E in energies]  # Correctly use list comprehension\n",
    "\n",
    "# take all of the different differences between the populations\n",
    "for i in range(len(N_j)):\n",
    "    for j in range(i + 1, len(N_j)):\n",
    "        print(\"N_{0} - N_{1} = {2:.2e} ppm\".format(i, j, (N_j[i] - N_j[j]).evalf()))\n",
    "\n",
    "    \n"
   ]
  },
  {
   "cell_type": "code",
   "execution_count": 29,
   "metadata": {},
   "outputs": [
    {
     "name": "stdout",
     "output_type": "stream",
     "text": [
      "Operating frequency: 6.00e+08 Hz\n",
      "Magnetic field strength: 1.41e+01 T\n"
     ]
    }
   ],
   "source": [
    "import sympy as sp\n",
    "\n",
    "# Constants\n",
    "# Gyromagnetic ratio in radians s^-1 T^-1 for a proton\n",
    "gamma_H = 2.6752219 * 10**8\n",
    "\n",
    "# Given values\n",
    "delta_ppm = 5  # Chemical shift in ppm\n",
    "delta_hz = 3 * 10**3  # Frequency range corresponding to chemical shift in Hz\n",
    "\n",
    "# Calculation\n",
    "# Rearrange the chemical shift formula to solve for nu_0 (operating frequency)\n",
    "nu_0 = sp.Symbol('nu_0')\n",
    "nu = nu_0 + delta_hz\n",
    "operating_frequency_equation = sp.Eq(delta_ppm, ((nu - nu_0) / nu_0) * 10**6)\n",
    "operating_frequency_solution = sp.solve(operating_frequency_equation, nu_0)\n",
    "\n",
    "# Calculate the magnetic field strength using the corrected formula\n",
    "B = sp.Symbol('B')\n",
    "magnetic_field_equation = sp.Eq(2 * sp.pi * operating_frequency_solution[0], gamma_H * B)\n",
    "magnetic_field_strength = sp.solve(magnetic_field_equation, B)\n",
    "\n",
    "# print with units\n",
    "print(\"Operating frequency: {0:.2e} Hz\".format(float(operating_frequency_solution[0].evalf())))\n",
    "print(\"Magnetic field strength: {0:.2e} T\".format(float(magnetic_field_strength[0].evalf())))\n"
   ]
  },
  {
   "cell_type": "code",
   "execution_count": 30,
   "metadata": {},
   "outputs": [
    {
     "name": "stdout",
     "output_type": "stream",
     "text": [
      "Magnetic field strength for 19F: 1.25e+01 T\n",
      "Magnetic field strength for 13C: 4.67e+01 T\n"
     ]
    }
   ],
   "source": [
    "import sympy as sp\n",
    "\n",
    "# Constants\n",
    "# Gyromagnetic ratios in radians s^-1 T^-1 for 19F and 13C\n",
    "gamma_F = 2.516233 * 10**8  # 19F\n",
    "gamma_C = 6.728286 * 10**7  # 13C\n",
    "nu_0 = 500 * 10**6  # 500 MHz in Hz\n",
    "\n",
    "# Calculation for 19F\n",
    "B_F = sp.Symbol('B_F')\n",
    "magnetic_field_equation_F = sp.Eq(2 * sp.pi * nu_0, gamma_F * B_F)\n",
    "magnetic_field_strength_F = sp.solve(magnetic_field_equation_F, B_F)\n",
    "\n",
    "# Calculation for 13C\n",
    "B_C = sp.Symbol('B_C')\n",
    "magnetic_field_equation_C = sp.Eq(2 * sp.pi * nu_0, gamma_C * B_C)\n",
    "magnetic_field_strength_C = sp.solve(magnetic_field_equation_C, B_C)\n",
    "\n",
    "# print with units\n",
    "print(\"Magnetic field strength for 19F: {0:.2e} T\".format(float(magnetic_field_strength_F[0].evalf())))\n",
    "print(\"Magnetic field strength for 13C: {0:.2e} T\".format(float(magnetic_field_strength_C[0].evalf())))\n"
   ]
  }
 ],
 "metadata": {
  "kernelspec": {
   "display_name": "pyscf_env",
   "language": "python",
   "name": "python3"
  },
  "language_info": {
   "codemirror_mode": {
    "name": "ipython",
    "version": 3
   },
   "file_extension": ".py",
   "mimetype": "text/x-python",
   "name": "python",
   "nbconvert_exporter": "python",
   "pygments_lexer": "ipython3",
   "version": "3.8.17"
  }
 },
 "nbformat": 4,
 "nbformat_minor": 2
}
