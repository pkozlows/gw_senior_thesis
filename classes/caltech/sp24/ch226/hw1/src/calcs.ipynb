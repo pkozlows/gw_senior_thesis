{
 "cells": [
  {
   "cell_type": "code",
   "execution_count": 2,
   "metadata": {},
   "outputs": [
    {
     "data": {
      "text/plain": [
       "(6366197723675814.0, 307.1059106411871, 0.0001023686368803957)"
      ]
     },
     "execution_count": 2,
     "metadata": {},
     "output_type": "execute_result"
    }
   ],
   "source": [
    "import math\n",
    "\n",
    "# Constants\n",
    "c = 3e8  # speed of light in m/s\n",
    "epsilon_0 = 8.85e-12  # permittivity of free space in F/m\n",
    "n = 1  # refractive index\n",
    "f_repetition_rate = 1000  # Hz\n",
    "tau_pulse = 50e-15  # pulse width in seconds\n",
    "P = 10e-3  # average power in Watts\n",
    "diameter_um = 200\n",
    "# get the  in cm\n",
    "radius_m = diameter_um / 2e6\n",
    "\n",
    "# Step 1: Area of the spot in m^2\n",
    "area_m2 = math.pi * radius_m**2\n",
    "\n",
    "I_avg = P / area_m2\n",
    "\n",
    "P_peak = (I_avg / f_repetition_rate) / tau_pulse\n",
    "\n",
    "# Step 5: Peak Electric Field in V/m\n",
    "E_peak = math.sqrt(2 * I_avg / (c * n * epsilon_0))\n",
    "\n",
    "# Convert E_peak to V/cm\n",
    "E_peak_cm = E_peak / 100\n",
    "\n",
    "# Step 6: Peak Magnetic Field in Tesla\n",
    "B_peak = E_peak / c\n",
    "\n",
    "P_peak, E_peak_cm, B_peak\n"
   ]
  },
  {
   "cell_type": "code",
   "execution_count": 1,
   "metadata": {},
   "outputs": [
    {
     "data": {
      "text/plain": [
       "(1.2732395447351626e+19, 2189.892502014028, 0.0007299641673380094)"
      ]
     },
     "execution_count": 1,
     "metadata": {},
     "output_type": "execute_result"
    }
   ],
   "source": [
    "import math\n",
    "\n",
    "# Constants\n",
    "c = 3e8  # speed of light in m/s\n",
    "epsilon_0 = 8.85e-12  # permittivity of free space in F/m\n",
    "n = 1  # refractive index\n",
    "f_repetition_rate = 1000  # Hz\n",
    "tau_pulse = 5e-15  # pulse width in seconds\n",
    "P = 0.5  # average power in Watts\n",
    "diameter_um = 100\n",
    "# get the  in cm\n",
    "radius_m = diameter_um / 2e6\n",
    "\n",
    "# Step 1: Area of the spot in m^2\n",
    "area_m2 = math.pi * radius_m**2\n",
    "\n",
    "I_avg = P / area_m2\n",
    "\n",
    "P_peak = (I_avg / f_repetition_rate) / tau_pulse\n",
    "\n",
    "# Step 5: Peak Electric Field in V/m\n",
    "E_peak = math.sqrt(2 * I_avg / (c * n * epsilon_0))\n",
    "\n",
    "# Convert E_peak to V/cm\n",
    "E_peak_cm = E_peak / 100\n",
    "\n",
    "# Step 6: Peak Magnetic Field in Tesla\n",
    "B_peak = E_peak / c\n",
    "\n",
    "P_peak, E_peak_cm, B_peak\n"
   ]
  },
  {
   "cell_type": "code",
   "execution_count": 2,
   "metadata": {},
   "outputs": [
    {
     "data": {
      "text/plain": [
       "(25464790894703.258, 43.797850040280565, 1.4599283346760187e-05)"
      ]
     },
     "execution_count": 2,
     "metadata": {},
     "output_type": "execute_result"
    }
   ],
   "source": [
    "import math\n",
    "\n",
    "# Constants\n",
    "c = 3e8  # speed of light in m/s\n",
    "epsilon_0 = 8.85e-12  # permittivity of free space in F/m\n",
    "n = 1  # refractive index\n",
    "f_repetition_rate = 1000  # Hz\n",
    "tau_pulse = 1e-12  # pulse width in seconds\n",
    "P = 0.005  # average power in Watts\n",
    "diameter_um = 500\n",
    "# get the  in cm\n",
    "radius_m = diameter_um / 2e6\n",
    "\n",
    "# Step 1: Area of the spot in m^2\n",
    "area_m2 = math.pi * radius_m**2\n",
    "\n",
    "I_avg = P / area_m2\n",
    "\n",
    "P_peak = (I_avg / f_repetition_rate) / tau_pulse\n",
    "\n",
    "# Step 5: Peak Electric Field in V/m\n",
    "E_peak = math.sqrt(2 * I_avg / (c * n * epsilon_0))\n",
    "\n",
    "# Convert E_peak to V/cm\n",
    "E_peak_cm = E_peak / 100\n",
    "\n",
    "# Step 6: Peak Magnetic Field in Tesla\n",
    "B_peak = E_peak / c\n",
    "\n",
    "P_peak, E_peak_cm, B_peak\n"
   ]
  },
  {
   "cell_type": "code",
   "execution_count": null,
   "metadata": {},
   "outputs": [],
   "source": [
    "import math\n",
    "\n",
    "# Constants\n",
    "c = 3e8  # speed of light in m/s\n",
    "epsilon_0 = 8.85e-12  # permittivity of free space in F/m\n",
    "n = 1  # refractive index\n",
    "f_repetition_rate = 1000  # Hz\n",
    "tau_pulse = 5e-15  # pulse width in seconds\n",
    "P = 0.01  # average power in Watts\n",
    "diameter_um = 200\n",
    "# get the redis in cm\n",
    "radius_cm = diameter_um / 2e4"
   ]
  }
 ],
 "metadata": {
  "kernelspec": {
   "display_name": "base",
   "language": "python",
   "name": "python3"
  },
  "language_info": {
   "codemirror_mode": {
    "name": "ipython",
    "version": 3
   },
   "file_extension": ".py",
   "mimetype": "text/x-python",
   "name": "python",
   "nbconvert_exporter": "python",
   "pygments_lexer": "ipython3",
   "version": "3.11.3"
  }
 },
 "nbformat": 4,
 "nbformat_minor": 2
}
