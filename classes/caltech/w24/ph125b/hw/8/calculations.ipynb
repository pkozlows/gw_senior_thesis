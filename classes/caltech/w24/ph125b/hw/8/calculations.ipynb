{
 "cells": [
  {
   "cell_type": "code",
   "execution_count": 3,
   "metadata": {},
   "outputs": [
    {
     "name": "stdout",
     "output_type": "stream",
     "text": [
      "\\begin{cases} \\frac{\\sqrt{\\alpha} e^{\\frac{p_{0}^{2}}{2 \\alpha^{2}}} \\left|{\\rho}\\right| \\operatorname{erf}{\\left(\\frac{\\sqrt{2} \\sqrt{\\pi} \\sqrt{\\frac{1}{\\rho}}}{2 \\rho} \\right)} \\operatorname{erf}{\\left(\\frac{\\sqrt{2} \\sqrt{\\pi} \\sqrt{\\frac{1}{\\rho}}}{2 \\left|{\\rho}\\right|} \\right)}}{\\rho} & \\text{for}\\: \\left|{\\arg{\\left(\\alpha \\right)}}\\right| \\leq \\frac{\\pi}{4} \\\\\\frac{\\sqrt{2} e^{\\frac{p_{0}^{2}}{2 \\alpha^{2}}} \\left|{\\rho}\\right| \\operatorname{erf}{\\left(\\frac{\\sqrt{2} \\sqrt{\\pi} \\sqrt{\\frac{1}{\\rho}}}{2 \\rho} \\right)} \\operatorname{erf}{\\left(\\frac{\\sqrt{2} \\sqrt{\\pi} \\sqrt{\\frac{1}{\\rho}}}{2 \\left|{\\rho}\\right|} \\right)} \\int\\limits_{-\\infty}^{\\infty} e^{- \\frac{p^{2}}{2 \\alpha^{2}}}\\, dp}{2 \\sqrt{\\pi} \\sqrt{\\alpha} \\rho} & \\text{otherwise} \\end{cases}\n"
     ]
    }
   ],
   "source": [
    "from sympy import *\n",
    "\n",
    "# define the symbols for this integration: \\int_{-\\infty}^{\\infty} \\dd{p} \\int_{(|\\textbf{x}| < \\sqrt{\\frac{\\pi}{a}})} \\dd^2{\\textbf{x}} \\frac{1}{{2\\pi \\rho^2}} e^{-\\frac{x^2 + y^2}{2\\rho^2}} \\frac{1}{\\sqrt{2\\pi } \\alpha(\\textbf{x})} e^{-\\frac{(p^2 - p_0^2)}{2\\alpha^2(\\textbf{x})}}}\n",
    "x, y, p, p0, rho, alpha = symbols('x y p p0 rho alpha', real=True)\n",
    "# define the integrand\n",
    "integrand = 1/(2*pi*rho**2) * exp(-(x**2 + y**2)/(2*rho**2)) * 1/sqrt(2*pi*alpha) * exp(-(p**2 - p0**2)/(2*alpha**2))\n",
    "# perform the integration with the bounds of x and y going from -sqrt(pi/a) to sqrt(pi/a)\n",
    "result = integrate(integrate(integrand, (x, -sqrt(pi/rho), sqrt(pi/rho))), (y, -sqrt(pi/rho), sqrt(pi/rho)))\n",
    "# now perform the integration with the bounds of p going from -inf to inf\n",
    "result = integrate(result, (p, -oo, oo))\n",
    "# print the result\n",
    "print(latex(result.simplify()))"
   ]
  }
 ],
 "metadata": {
  "kernelspec": {
   "display_name": "pyscf_env",
   "language": "python",
   "name": "python3"
  },
  "language_info": {
   "codemirror_mode": {
    "name": "ipython",
    "version": 3
   },
   "file_extension": ".py",
   "mimetype": "text/x-python",
   "name": "python",
   "nbconvert_exporter": "python",
   "pygments_lexer": "ipython3",
   "version": "3.8.17"
  }
 },
 "nbformat": 4,
 "nbformat_minor": 2
}
