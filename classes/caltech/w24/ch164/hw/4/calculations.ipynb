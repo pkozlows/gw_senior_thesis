{
 "cells": [
  {
   "cell_type": "code",
   "execution_count": null,
   "metadata": {},
   "outputs": [],
   "source": [
    "from sympy import *\n",
    "# define the variables needed for this density of states: g(\\epsilon) = \\frac{V}{4 \\pi^2}\\left(\\frac{2 m}{\\hbar^2}\\right)^{3 / 2} \\varepsilon^{1 / 2}\n",
    "V, m, hbar, eps = symbols('V m hbar eps')\n",
    "g = V / (4 * pi**2) * (2 * m / hbar**2)**(3 / 2) * eps**(1 / 2)\n",
    "# take its divisive with respect to epsilon \n",
    "dg = diff(g, eps)\n"
   ]
  }
 ],
 "metadata": {
  "language_info": {
   "name": "python"
  }
 },
 "nbformat": 4,
 "nbformat_minor": 2
}
