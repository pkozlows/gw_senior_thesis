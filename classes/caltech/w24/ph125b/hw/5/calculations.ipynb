{
 "cells": [
  {
   "cell_type": "code",
   "execution_count": 7,
   "metadata": {},
   "outputs": [
    {
     "ename": "IndexError",
     "evalue": "list index out of range",
     "output_type": "error",
     "traceback": [
      "\u001b[0;31m---------------------------------------------------------------------------\u001b[0m",
      "\u001b[0;31mIndexError\u001b[0m                                Traceback (most recent call last)",
      "Cell \u001b[0;32mIn[7], line 21\u001b[0m\n\u001b[1;32m     18\u001b[0m r_solution \u001b[38;5;241m=\u001b[39m solve(diff_expr_r, r)\n\u001b[1;32m     20\u001b[0m \u001b[38;5;66;03m# printing them directly.\u001b[39;00m\n\u001b[0;32m---> 21\u001b[0m \u001b[38;5;28mprint\u001b[39m(latex(\u001b[43mr_solution\u001b[49m\u001b[43m[\u001b[49m\u001b[38;5;241;43m0\u001b[39;49m\u001b[43m]\u001b[49m\u001b[38;5;241m.\u001b[39msimplify()))\n",
      "\u001b[0;31mIndexError\u001b[0m: list index out of range"
     ]
    }
   ],
   "source": [
    "from sympy import symbols, diff, solve, exp, simplify, Eq, latex\n",
    "\n",
    "mu, r, k = symbols('mu r k')\n",
    "\n",
    "# Define the expression to differentiate\n",
    "expr = (k/r) * (exp(-mu*r) - 1)\n",
    "\n",
    "# Differentiate with respect to mu and set the derivative equal to zero to solve\n",
    "diff_expr_mu = diff(expr, mu)\n",
    "mu_solution = solve(diff_expr_mu, mu)\n",
    "\n",
    "# Differentiate with respect to k and set the derivative equal to zero to solve\n",
    "diff_expr_k = diff(expr, k)\n",
    "k_solution = solve(diff_expr_k, k)\n",
    "\n",
    "# differentiate with respect to r and set the derivative equal to zero to solve\n",
    "diff_expr_r = diff(expr, r)\n",
    "r_solution = solve(diff_expr_r, r)\n",
    "\n",
    "# printing them directly.\n",
    "print(latex(r_solution[0].simplify()))\n",
    "I want to write a sentence\n"
   ]
  },
  {
   "cell_type": "code",
   "execution_count": 2,
   "metadata": {},
   "outputs": [
    {
     "name": "stdout",
     "output_type": "stream",
     "text": [
      "K \\left(- \\frac{\\mu e^{- \\mu r}}{r} + \\frac{1}{r^{2}} - \\frac{e^{- \\mu r}}{r^{2}}\\right)\n",
      "\\left[ 0\\right]\n",
      "\\left[ 0\\right]\n",
      "\\left[ \\right]\n"
     ]
    }
   ],
   "source": [
    "from sympy import symbols, exp, diff, Eq, solve, latex\n",
    "\n",
    "# Re-define symbols after reset\n",
    "mu, r, K = symbols('mu r K')\n",
    "\n",
    "# Define the function V\n",
    "V = K * (exp(-mu * r) / r - 1 / r)\n",
    "\n",
    "# Compute the derivative of V with respect to r\n",
    "derivative_V_r = diff(V, r)\n",
    "\n",
    "# Solve the derivative equal to 0 for mu, aiming to express mu in terms of K (if possible)\n",
    "relation_mu_K = solve(Eq(derivative_V_r, 0), mu)\n",
    "# now set it equal to numeral cero and solve for K\n",
    "relation_K_mu = solve(Eq(derivative_V_r, 0), K)\n",
    "# set it equal to sera and solve for r\n",
    "relation_r_mu = solve(Eq(derivative_V_r, 0), r)\n",
    "\n",
    "print(latex(derivative_V_r))\n",
    "print(latex(relation_mu_K))\n",
    "print(latex(relation_K_mu))\n",
    "print(latex(relation_r_mu))\n"
   ]
  }
 ],
 "metadata": {
  "kernelspec": {
   "display_name": "pyscf_env",
   "language": "python",
   "name": "python3"
  },
  "language_info": {
   "codemirror_mode": {
    "name": "ipython",
    "version": 3
   },
   "file_extension": ".py",
   "mimetype": "text/x-python",
   "name": "python",
   "nbconvert_exporter": "python",
   "pygments_lexer": "ipython3",
   "version": "3.8.0"
  }
 },
 "nbformat": 4,
 "nbformat_minor": 2
}
