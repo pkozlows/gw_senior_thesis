{
 "cells": [
  {
   "cell_type": "code",
   "execution_count": 8,
   "metadata": {},
   "outputs": [
    {
     "name": "stdout",
     "output_type": "stream",
     "text": [
      "1.31204968079106 \\cdot 10^{-34}\n",
      "8.79146429773221 \\cdot 10^{-21}\n"
     ]
    }
   ],
   "source": [
    "from sympy import symbols, sqrt, pi, latex\n",
    "\n",
    "# Constants\n",
    "eV_to_J = 1.602e-19  # Conversion from eV to Joules\n",
    "Ry_to_eV = 13.6  # Conversion from Rydbergs to eV\n",
    "a_0 = 0.529e-10  # Bohr radius in meters\n",
    "m = 9.11e-31  # Electron mass in kg\n",
    "e = 1.6e-19  # Elementary charge in Coulombs\n",
    "c = 3e8  # Speed of light in m/s\n",
    "hbar = 1.054e-34  # Reduced Planck's constant in Js\n",
    "\n",
    "# Kinetic energy in Rydbergs\n",
    "KE_Ry = 10\n",
    "# Convert Ry to eV to J\n",
    "KE_J = KE_Ry * Ry_to_eV * eV_to_J\n",
    "\n",
    "# Calculate the momentum p_f using the relation E = p^2/2m (non-relativistic kinetic energy)\n",
    "# p_f = sqrt(2*m*E)\n",
    "p_f_value = sqrt(2 * m * KE_J)\n",
    "\n",
    "\n",
    "# Calculate the second expression\n",
    "omega = (KE_Ry * Ry_to_eV * eV_to_J) / hbar  # Angular frequency\n",
    "second_expression = (128 * a_0**3 * pi * e**2 * p_f_value**3) / (3 * m * hbar**3 * omega * c * (1 + p_f_value**2 * a_0**2 / hbar**2)**4)\n",
    "\n",
    "# Print the second result in LaTeX\n",
    "print(latex(second_expression.evalf()))\n",
    "\n",
    "# compute the atoms geometric cross section comma which is given by a_0^2\\pi\n",
    "pi = 3.14159265358979323846\n",
    "atoms_cross_section = a_0**2 * pi\n",
    "print(latex(atoms_cross_section))"
   ]
  }
 ],
 "metadata": {
  "kernelspec": {
   "display_name": "pyscf_env",
   "language": "python",
   "name": "python3"
  },
  "language_info": {
   "codemirror_mode": {
    "name": "ipython",
    "version": 3
   },
   "file_extension": ".py",
   "mimetype": "text/x-python",
   "name": "python",
   "nbconvert_exporter": "python",
   "pygments_lexer": "ipython3",
   "version": "3.8.0"
  }
 },
 "nbformat": 4,
 "nbformat_minor": 2
}
