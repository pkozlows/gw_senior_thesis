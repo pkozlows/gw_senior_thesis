{
 "cells": [
  {
   "cell_type": "code",
   "execution_count": 1,
   "metadata": {},
   "outputs": [
    {
     "name": "stdout",
     "output_type": "stream",
     "text": [
      "\\frac{2 e N - \\sqrt{\\left(4 e N + e^{\\beta \\epsilon}\\right) e^{\\beta \\epsilon}} + e^{\\beta \\epsilon}}{4 e}\n"
     ]
    }
   ],
   "source": [
    "from sympy import symbols, diff, ln, latex, Eq, solve, exp, simplify\n",
    "\n",
    "# Define symbols\n",
    "N, Np, beta, epsilon = symbols('N Np beta epsilon')\n",
    "\n",
    "# Define the function\n",
    "ln_t_Np = N * ln(N) - (N - 2*Np) * ln(N - 2*Np) - Np * ln(Np) - Np * ln(2) - beta * epsilon * Np\n",
    "\n",
    "# Differentiate ln(t_Np) with respect to Np\n",
    "d_ln_t_Np_dNp = diff(ln_t_Np, Np)\n",
    "\n",
    "# print(latex(d_ln_t_Np_dNp.simplify()))\n",
    "\n",
    "# solve for N_P here: \\exp{\\left(\\beta \\epsilon - 1 \\right)} = \\frac{(N - 2 N_p)^2}{2N_p}\n",
    "final_equation = Eq(exp(beta * epsilon - 1), (N - 2*Np)**2 / (2*Np))\n",
    "Np_solution = solve(final_equation, Np)\n",
    "print(latex(Np_solution[0].simplify()))"
   ]
  }
 ],
 "metadata": {
  "kernelspec": {
   "display_name": "base",
   "language": "python",
   "name": "python3"
  },
  "language_info": {
   "codemirror_mode": {
    "name": "ipython",
    "version": 3
   },
   "file_extension": ".py",
   "mimetype": "text/x-python",
   "name": "python",
   "nbconvert_exporter": "python",
   "pygments_lexer": "ipython3",
   "version": "3.11.3"
  }
 },
 "nbformat": 4,
 "nbformat_minor": 2
}
