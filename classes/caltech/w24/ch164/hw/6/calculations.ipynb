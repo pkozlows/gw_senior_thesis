{
 "cells": [
  {
   "cell_type": "code",
   "execution_count": 2,
   "metadata": {},
   "outputs": [
    {
     "name": "stdout",
     "output_type": "stream",
     "text": [
      "- \\frac{N \\left(- K + \\left(K \\cosh{\\left(\\beta h \\right)} + h \\sinh{\\left(\\beta h \\right)}\\right) \\sqrt{e^{4 K \\beta} \\sinh^{2}{\\left(\\beta h \\right)} + 1} e^{2 K \\beta} + \\frac{\\left(K \\cosh{\\left(2 \\beta h \\right)} - K + h \\sinh{\\left(2 \\beta h \\right)}\\right) e^{4 K \\beta}}{2}\\right)}{\\sqrt{e^{4 K \\beta} \\sinh^{2}{\\left(\\beta h \\right)} + 1} \\left(\\sqrt{e^{4 K \\beta} \\sinh^{2}{\\left(\\beta h \\right)} + 1} + e^{2 K \\beta} \\cosh{\\left(\\beta h \\right)}\\right)}\n"
     ]
    }
   ],
   "source": [
    "from sympy import symbols, exp, cosh, sinh, sqrt, diff, ln, simplify, latex\n",
    "\n",
    "# Define symbols\n",
    "beta, K, h, N, k_B = symbols('beta K h N k_B', real=True, positive=True)\n",
    "\n",
    "# Define lambda_+ based on the given expression\n",
    "lambda_plus = exp(beta * K) * cosh(beta * h) + sqrt(exp(2 * beta * K) * sinh(beta * h)**2 + exp(-2 * beta * K))\n",
    "\n",
    "# Compute the derivative of ln(lambda_+) with respect to beta\n",
    "d_ln_lambda_plus_dbeta = diff(ln(lambda_plus), beta)\n",
    "\n",
    "# Energy expression\n",
    "E = -N * d_ln_lambda_plus_dbeta\n",
    "\n",
    "# compute the entropy comma which is given by S=k\\left(N \\ln \\lambda_{+}+\\beta E\\right)\n",
    "S = k_B * (N * ln(lambda_plus) + beta * E)\n",
    "\n",
    "# Simplify the expressions\n",
    "E = simplify(E)\n",
    "S = simplify(S)\n",
    "\n",
    "# Print the results\n",
    "print(latex(E))\n"
   ]
  },
  {
   "cell_type": "code",
   "execution_count": 1,
   "metadata": {},
   "outputs": [
    {
     "name": "stdout",
     "output_type": "stream",
     "text": [
      "- \\frac{\\left(\\log{\\left(1 - \\tanh{\\left(\\beta h_{i} \\right)} \\right)} - \\log{\\left(2 \\right)}\\right) \\left(\\tanh{\\left(\\beta h_{i} \\right)} - 1\\right)}{2} + \\frac{\\left(\\log{\\left(\\tanh{\\left(\\beta h_{i} \\right)} + 1 \\right)} - \\log{\\left(2 \\right)}\\right) \\left(\\tanh{\\left(\\beta h_{i} \\right)} + 1\\right)}{2}\n"
     ]
    }
   ],
   "source": [
    "from sympy import *\n",
    "\n",
    "# Define symbols just to simplify this: = kT\\sum_i\\left(\\frac{1+\\tanh \\left(\\beta h_i\\right)}{2} \\left( \\ln (1+\\tanh \\left(\\beta h_i\\right)) - \\ln 2\\right)+\\frac{1-\\tanh \\left(\\beta h_i\\right)}{2} \\left( \\ln (1-\\tanh \\left(\\beta h_i\\right)) - \\ln 2\\right)\\right)\n",
    "beta, h_i, k_B, T = symbols('beta h_i k_B T', real=True, positive=True)\n",
    "# I just want to simplify the inside of the summation\n",
    "# Define the inside of the sum\n",
    "inside_sum = (1 + tanh(beta * h_i)) / 2 * (ln(1 + tanh(beta * h_i)) - ln(2)) + (1 - tanh(beta * h_i)) / 2 * (ln(1 - tanh(beta * h_i)) - ln(2))  \n",
    "# Simplify the inside of the sum\n",
    "inside_sum = simplify(inside_sum)\n",
    "# Print the result\n",
    "print(latex(inside_sum))\n",
    "\n"
   ]
  },
  {
   "cell_type": "code",
   "execution_count": 2,
   "metadata": {},
   "outputs": [
    {
     "name": "stdout",
     "output_type": "stream",
     "text": [
      "\\frac{\\sqrt{2} \\sqrt{T} \\sqrt{k}}{2 \\sqrt{\\pi} \\sqrt{m}}\n"
     ]
    }
   ],
   "source": [
    "from sympy import *\n",
    "\n",
    "# Define symbols for this \\langle v_{z+} \\rangle = \\left(\\frac{m}{2\\pi k T}\\right)^{1/2} \\int_{0}^{\\infty} v_z \\exp\\left(-\\frac{m v_z^2}{2 k T}\\right) \\dd{v_z}\n",
    "m, T, k = symbols('m T k', real=True, positive=True)\n",
    "v_z = symbols('v_z', real=True)\n",
    "\n",
    "# Define the integrand\n",
    "integrand = v_z * exp(-m * v_z**2 / (2 * k * T))\n",
    "\n",
    "# Compute the integral\n",
    "integral = integrate(integrand, (v_z, 0, oo))\n",
    "\n",
    "# Simplify the result\n",
    "integral = simplify(integral)\n",
    "\n",
    "# multiply by the prefactor\n",
    "integral = sqrt(m / (2 * pi * k * T)) * integral\n",
    "\n",
    "# simplify the result\n",
    "integral = simplify(integral)\n",
    "\n",
    "# Print the result\n",
    "print(latex(integral))"
   ]
  }
 ],
 "metadata": {
  "kernelspec": {
   "display_name": "pyscf_env",
   "language": "python",
   "name": "python3"
  },
  "language_info": {
   "codemirror_mode": {
    "name": "ipython",
    "version": 3
   },
   "file_extension": ".py",
   "mimetype": "text/x-python",
   "name": "python",
   "nbconvert_exporter": "python",
   "pygments_lexer": "ipython3",
   "version": "3.8.17"
  }
 },
 "nbformat": 4,
 "nbformat_minor": 2
}
