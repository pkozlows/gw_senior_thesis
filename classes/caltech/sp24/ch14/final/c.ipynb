{
 "cells": [
  {
   "cell_type": "code",
   "execution_count": 1,
   "metadata": {},
   "outputs": [
    {
     "data": {
      "text/latex": [
       "$\\displaystyle 7.44121465490847$"
      ],
      "text/plain": [
       "7.44121465490847"
      ]
     },
     "execution_count": 1,
     "metadata": {},
     "output_type": "execute_result"
    }
   ],
   "source": [
    "import sympy as sp\n",
    "\n",
    "# Constants\n",
    "k_a1 = 7.94e-7  # Acid dissociation constant\n",
    "k_h = 0.03      # Henry's law constant at 37 degrees Celsius (M/atm)\n",
    "p_co2 = 0.038   # Partial pressure of CO2 in the lungs (atm)\n",
    "conc_hco3 = 0.025  # Concentration of bicarbonate in blood (M)\n",
    "\n",
    "# Define symbols\n",
    "H = sp.symbols('H')\n",
    "\n",
    "# Calculation of [CO2] using Henry's law\n",
    "conc_co2 = p_co2 * k_h\n",
    "\n",
    "# Using the approximation that [H2CO3] ≈ [CO2]\n",
    "conc_h2co3 = conc_co2\n",
    "\n",
    "# Ka expression for the first dissociation of carbonic acid\n",
    "# H2CO3 -> H+ + HCO3-\n",
    "equation = sp.Eq(H * conc_hco3, k_a1 * conc_h2co3)\n",
    "\n",
    "# Solve for [H+]\n",
    "H_concentration = sp.solve(equation, H)[0]\n",
    "\n",
    "# Calculate pH\n",
    "pH = -sp.log(H_concentration, 10)\n",
    "\n",
    "# Simplify the expression for pH\n",
    "pH_simplified = sp.simplify(pH)\n",
    "\n",
    "# Displaying the pH expression and calculated value\n",
    "pH_simplified.evalf()\n",
    "\n"
   ]
  },
  {
   "cell_type": "code",
   "execution_count": 1,
   "metadata": {},
   "outputs": [
    {
     "data": {
      "text/plain": [
       "-0.8277710002204718"
      ]
     },
     "execution_count": 1,
     "metadata": {},
     "output_type": "execute_result"
    }
   ],
   "source": [
    "import numpy as np\n",
    "import sympy as sp\n",
    "\n",
    "# Constants\n",
    "R = 8.314  # J/(mol K)\n",
    "T = 298    # Kelvin\n",
    "F = 96485  # C/mol\n",
    "Kw = 10**-14\n",
    "\n",
    "# Calculate change in Gibbs free energy for ionization of water\n",
    "delta_G = -R * T * np.log(Kw)\n",
    "\n",
    "# Convert delta G to delta E\n",
    "delta_E = delta_G / F\n",
    "\n",
    "# Calculate the new E° for the Eq A half-cell reaction\n",
    "E_standard_acid = 0.000  # V for the standard hydrogen electrode\n",
    "E_standard_alkaline = E_standard_acid - delta_E  # Subtracting because we are moving from acid to alkaline\n",
    "\n",
    "E_standard_alkaline\n"
   ]
  },
  {
   "cell_type": "code",
   "execution_count": 2,
   "metadata": {},
   "outputs": [
    {
     "data": {
      "text/plain": [
       "0.13292312733996714"
      ]
     },
     "execution_count": 2,
     "metadata": {},
     "output_type": "execute_result"
    }
   ],
   "source": [
    "import numpy as np\n",
    "import sympy as sp\n",
    "\n",
    "# Constants\n",
    "R = 8.314  # J/(mol K)\n",
    "T = 298    # Kelvin\n",
    "F = 96485  # C/mol\n",
    "\n",
    "# Given data\n",
    "E0_Fe3_to_Fe2 = 0.771  # V, standard potential for Fe3+ to Fe2+\n",
    "beta_Fe2_EDTA = 2.1e14  # formation constant for Fe2+ with EDTA\n",
    "beta_Fe3_EDTA = 1.3e25  # formation constant for Fe3+ with EDTA\n",
    "\n",
    "# Calculate delta G for both formation reactions using the formation constants\n",
    "delta_G1 = -R * T * np.log(beta_Fe2_EDTA)  # For FeY^2-\n",
    "delta_G2 = -R * T * np.log(beta_Fe3_EDTA)  # For FeY^-\n",
    "\n",
    "# Convert delta G to delta E\n",
    "delta_E1 = delta_G1 / F  # Corresponds to Fe2+ + Y4- -> FeY2-\n",
    "delta_E2 = delta_G2 / F  # Corresponds to Fe3+ + Y4- -> FeY^-\n",
    "\n",
    "# Calculate the desired E0 for the reaction FeY^- + e^- -> FeY^2-\n",
    "E0_desired = E0_Fe3_to_Fe2 - delta_E1 + delta_E2\n",
    "\n",
    "E0_desired\n"
   ]
  },
  {
   "cell_type": "code",
   "execution_count": 5,
   "metadata": {},
   "outputs": [
    {
     "data": {
      "text/plain": [
       "0.029563250007873985"
      ]
     },
     "execution_count": 5,
     "metadata": {},
     "output_type": "execute_result"
    }
   ],
   "source": [
    "import math\n",
    "\n",
    "# Constants\n",
    "R = 8.314  # Gas constant, J/(mol K)\n",
    "T = 298    # Temperature in Kelvin\n",
    "F = 96485  # Faraday constant, C/mol\n",
    "n = 2      # Number of electrons transferred in the reaction\n",
    "\n",
    "# Concentrations\n",
    "C_high = 1.0  # Molarity of CuSO4 in the high concentration half-cell\n",
    "C_low = 0.1   # Molarity of CuSO4 in the low concentration half-cell\n",
    "\n",
    "# Nernst Equation to calculate the potential difference\n",
    "delta_E = -(R * T / (n * F)) * math.log(C_low / C_high)\n",
    "\n",
    "delta_E\n",
    "\n"
   ]
  },
  {
   "cell_type": "code",
   "execution_count": 7,
   "metadata": {},
   "outputs": [
    {
     "data": {
      "text/latex": [
       "$\\displaystyle 0.164$"
      ],
      "text/plain": [
       "0.164000000000000"
      ]
     },
     "execution_count": 7,
     "metadata": {},
     "output_type": "execute_result"
    }
   ],
   "source": [
    "import sympy as sp\n",
    "\n",
    "# Define symbols\n",
    "L = sp.symbols('L', real=True, positive=True)  # Column length\n",
    "R = 1  # Target resolution\n",
    "\n",
    "# Given values\n",
    "V1 = 100  # Elution volume of solute 1 in mL\n",
    "V2 = 105  # Elution volume of solute 2 in mL\n",
    "plates_per_meter = 500  # Number of theoretical plates per meter\n",
    "\n",
    "# Calculate the effective number of plates N based on length L\n",
    "N = 500 * L\n",
    "\n",
    "# Compute the standard deviation sigma for each solute\n",
    "sigma1 = V1 / sp.sqrt(N)\n",
    "sigma2 = V2 / sp.sqrt(N)\n",
    "\n",
    "# Compute the widths of the peaks\n",
    "w1 = 4 * sigma1 / sp.sqrt(N)\n",
    "w2 = 4 * sigma2 / sp.sqrt(N)\n",
    "\n",
    "# Set up the resolution equation\n",
    "resolution_eq = sp.Eq(2 * (V2 - V1) / (w1 + w2), R)\n",
    "\n",
    "# Solve for L\n",
    "length_solution = sp.solve(resolution_eq, L)\n",
    "\n",
    "length_solution[0].evalf()\n"
   ]
  }
 ],
 "metadata": {
  "kernelspec": {
   "display_name": "pyscf_env",
   "language": "python",
   "name": "python3"
  },
  "language_info": {
   "codemirror_mode": {
    "name": "ipython",
    "version": 3
   },
   "file_extension": ".py",
   "mimetype": "text/x-python",
   "name": "python",
   "nbconvert_exporter": "python",
   "pygments_lexer": "ipython3",
   "version": "3.8.17"
  }
 },
 "nbformat": 4,
 "nbformat_minor": 2
}
