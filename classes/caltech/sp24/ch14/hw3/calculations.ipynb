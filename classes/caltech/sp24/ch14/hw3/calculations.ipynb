{
 "cells": [
  {
   "cell_type": "code",
   "execution_count": 7,
   "metadata": {},
   "outputs": [
    {
     "data": {
      "text/latex": [
       "$\\displaystyle 10.1555860864346$"
      ],
      "text/plain": [
       "10.1555860864346"
      ]
     },
     "execution_count": 7,
     "metadata": {},
     "output_type": "execute_result"
    }
   ],
   "source": [
    "from sympy import symbols, Eq, solve, log\n",
    "\n",
    "# Define the symbols\n",
    "c_Acid, c_Base1, c_Base2, c_Hplus = symbols('c_Acid c_Base1 c_Base2 c_Hplus', real=True, positive=True)\n",
    "Ka1, Ka2 = symbols('Ka1 Ka2', real=True, positive=True)\n",
    "pH = symbols('pH', real=True)\n",
    "\n",
    "# Given concentrations\n",
    "c_Acid_initial = 0.05  # Molarity of malonic acid\n",
    "c_Base2_initial = 0.10  # Molarity of malonate ion from disodium malonate\n",
    "\n",
    "# Ka values converted to pKa values\n",
    "pKa1 = 2.83\n",
    "pKa2 = 5.69\n",
    "Ka1_value = 10**(-pKa1)\n",
    "Ka2_value = 10**(-pKa2)\n",
    "\n",
    "\n",
    "# define the equilibrium equations\n",
    "eq1 = Eq(Ka1_value, c_Base1*c_Hplus/c_Acid_initial)\n",
    "eq2 = Eq(Ka2_value, c_Base2_initial*c_Hplus/c_Base1)\n",
    "\n",
    "# solve the equations; we have two equations and two unknowns\n",
    "solution = solve((eq1, eq2), (c_Base1, c_Hplus))\n",
    "c_Base1_value = solution[0][0]\n",
    "c_Hplus_value = solution[0][1]\n",
    "\n",
    "# calculate the pH\n",
    "pH_value = -log(c_Hplus_value)\n",
    "\n",
    "pH_value\n",
    "\n",
    "\n"
   ]
  }
 ],
 "metadata": {
  "kernelspec": {
   "display_name": "base",
   "language": "python",
   "name": "python3"
  },
  "language_info": {
   "codemirror_mode": {
    "name": "ipython",
    "version": 3
   },
   "file_extension": ".py",
   "mimetype": "text/x-python",
   "name": "python",
   "nbconvert_exporter": "python",
   "pygments_lexer": "ipython3",
   "version": "3.8.17"
  }
 },
 "nbformat": 4,
 "nbformat_minor": 2
}
