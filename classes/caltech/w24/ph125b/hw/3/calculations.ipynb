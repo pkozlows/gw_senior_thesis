{
 "cells": [
  {
   "cell_type": "code",
   "execution_count": 1,
   "metadata": {},
   "outputs": [
    {
     "data": {
      "text/plain": [
       "(3*E*a0*sqrt(alpha), 3*E*a0*sqrt(alpha))"
      ]
     },
     "execution_count": 1,
     "metadata": {},
     "output_type": "execute_result"
    }
   ],
   "source": [
    "from sympy import symbols, cos, integrate, pi, sqrt, exp, oo, conjugate, sin\n",
    "from sympy.abc import r, theta, phi\n",
    "\n",
    "# Define constants\n",
    "a0, E, alpha = symbols('a0 E alpha', real=True, positive=True)\n",
    "\n",
    "# Define the wave functions\n",
    "psi_200 = 1/sqrt(4*pi) * 1/(2*sqrt(2)) * 1/a0**(3/2) * (2 - r/a0) * exp(-r/(2*a0))\n",
    "psi_210 = sqrt(3/(4*pi)) * cos(theta) * 1/(4*sqrt(6)) * 1/a0**(3/2) * 2 * (r/a0) * exp(-r/(2*a0))\n",
    "\n",
    "# Define the perturbing potential V in spherical coordinates\n",
    "V = -sqrt(alpha) * E * r * cos(theta)\n",
    "\n",
    "# Function to calculate the matrix element\n",
    "def matrix_element(psi1, psi2, V):\n",
    "    integrand = conjugate(psi1) * V * psi2 * r**2 * sin(theta)\n",
    "    return integrate(integrand, (r, 0, oo), (theta, 0, pi), (phi, 0, 2*pi))\n",
    "\n",
    "# Compute the matrix elements\n",
    "element_200_210 = matrix_element(psi_200, psi_210, V)\n",
    "element_210_200 = matrix_element(psi_210, psi_200, V)\n",
    "\n",
    "element_200_210, element_210_200\n",
    "\n"
   ]
  },
  {
   "cell_type": "code",
   "execution_count": 1,
   "metadata": {},
   "outputs": [
    {
     "data": {
      "text/latex": [
       "$\\displaystyle 4 \\pi R_{nl 0}^{2} \\left(- \\frac{Z e^{2} \\rho^{2}}{8 \\pi \\epsilon_{0}} + \\frac{Z e \\rho^{2}}{60 \\pi \\epsilon_{0}}\\right)$"
      ],
      "text/plain": [
       "4*pi*R_nl_0**2*(-Z*e**2*rho**2/(8*pi*epsilon_0) + Z*e*rho**2/(60*pi*epsilon_0))"
      ]
     },
     "execution_count": 1,
     "metadata": {},
     "output_type": "execute_result"
    }
   ],
   "source": [
    "from sympy import symbols, pi, integrate\n",
    "\n",
    "# Defining the symbols\n",
    "r, rho, Z, e, epsilon_0, R_nl_0 = symbols('r rho Z e epsilon_0 R_nl_0')\n",
    "\n",
    "# Defining the integrand\n",
    "integrand = (-Z*e**2 / (4*pi*epsilon_0*r) - -Z*e*(-r**2 + rho**2) / (8*pi*epsilon_0*rho**3)) * r**2\n",
    "\n",
    "# Performing the integration\n",
    "integral_result = 4 * pi * R_nl_0**2 * integrate(integrand, (r, 0, rho))\n",
    "integral_result\n"
   ]
  },
  {
   "cell_type": "code",
   "execution_count": 1,
   "metadata": {},
   "outputs": [
    {
     "data": {
      "text/plain": [
       "(-1.452552064023007e-22, -0.0009067116504513152)"
      ]
     },
     "execution_count": 1,
     "metadata": {},
     "output_type": "execute_result"
    }
   ],
   "source": [
    "# Constants\n",
    "m_e = 9.109e-31  # Electron mass in kg\n",
    "c = 2.998e8      # Speed of light in m/s\n",
    "alpha = 1/137    # Fine structure constant\n",
    "eV = 1.602e-19   # Joules per electron volt\n",
    "\n",
    "# First-order relativistic correction (in Joules)\n",
    "E1_T_joules = - (5 * m_e * c**2 * alpha**4) / 8\n",
    "\n",
    "# Convert to electron volts\n",
    "E1_T_eV = E1_T_joules / eV\n",
    "E1_T_joules, E1_T_eV\n"
   ]
  },
  {
   "cell_type": "code",
   "execution_count": 4,
   "metadata": {},
   "outputs": [
    {
     "data": {
      "text/plain": [
       "(2.41107216111317e-21,\n",
       " 2.41107216111317e-21,\n",
       " 0.0150503880219299,\n",
       " 0.0150503880219299)"
      ]
     },
     "execution_count": 4,
     "metadata": {},
     "output_type": "execute_result"
    }
   ],
   "source": [
    "from sympy import symbols, pi, sqrt, exp, integrate, sin, conjugate, oo, cos, N\n",
    "\n",
    "# Define physical constants\n",
    "e = 1.602e-19  # Elementary charge in Coulombs\n",
    "epsilon_0 = 8.854e-12  # Permittivity of free space in F/m\n",
    "a0 = 5.29177210903e-11  # Bohr radius in meters\n",
    "\n",
    "# Define symbols for the problem\n",
    "r, theta, phi, E, alpha = symbols('r theta phi E alpha', positive=True, real=True)\n",
    "\n",
    "# Define the wave functions for 2p0 and 2s0 states\n",
    "# 2s0 state\n",
    "psi_200 = 1/sqrt(4*pi) * 1/(2*sqrt(2)) * 1/a0**(3/2) * (2 - r/a0) * exp(-r/(2*a0))\n",
    "# 2p0 state\n",
    "psi_210 = sqrt(3/(4*pi)) * cos(theta) * 1/(4*sqrt(6)) * 1/a0**(3/2) * 2 * (r/a0) * exp(-r/(2*a0))\n",
    "\n",
    "# Define the perturbing potential V in spherical coordinates\n",
    "alpha_value = e**2 / (4 * pi * epsilon_0)  # Value of alpha for hydrogen atom\n",
    "V = -sqrt(alpha_value) * E * r * cos(theta)\n",
    "\n",
    "# Function to calculate the matrix element\n",
    "def matrix_element(psi1, psi2, V):\n",
    "    integrand = conjugate(psi1) * V * psi2 * r**2 * sin(theta)\n",
    "    return integrate(integrand, (r, 0, oo), (theta, 0, pi), (phi, 0, 2*pi))\n",
    "\n",
    "# Define the electric field (100 kV/cm in SI units)\n",
    "E_field_SI = 100e3 / 100  # 100 kV/cm in V/m\n",
    "\n",
    "# Calculate the matrix elements for the given electric field\n",
    "element_200_210 = N(matrix_element(psi_200, psi_210, V.subs(E, E_field_SI)))\n",
    "element_210_200 = N(matrix_element(psi_210, psi_200, V.subs(E, E_field_SI)))\n",
    "\n",
    "# Convert energy shifts from Joules to eV\n",
    "J_to_eV = 1 / (1.602e-19)  # Conversion factor from Joules to eV\n",
    "energy_shift_200_210_eV = element_200_210 * J_to_eV\n",
    "energy_shift_210_200_eV = element_210_200 * J_to_eV\n",
    "\n",
    "element_200_210, element_210_200, energy_shift_200_210_eV, energy_shift_210_200_eV\n",
    "\n"
   ]
  },
  {
   "cell_type": "code",
   "execution_count": 3,
   "metadata": {},
   "outputs": [
    {
     "name": "stdout",
     "output_type": "stream",
     "text": [
      "\\frac{Z^{4} e \\rho^{2} \\cdot \\left(2 - 15 e\\right)}{15 a_{0}^{3} \\epsilon_{0} n^{3}}\n"
     ]
    }
   ],
   "source": [
    "from sympy import pi, symbols, simplify, latex\n",
    "\n",
    "# Define symbols\n",
    "Z, n, a_0, e, rho, epsilon_0 = symbols('Z n a_0 e rho epsilon_0', real=True, positive=True)\n",
    "\n",
    "# The given expression to be simplified\n",
    "expression = 8 * pi * (Z / (n * a_0))**3 * (-Z * e**2 * rho**2 / (8 * pi * epsilon_0) + Z * e * rho**2 / (60 * pi * epsilon_0))\n",
    "\n",
    "# Simplify the expression\n",
    "simplified_expression = simplify(expression)\n",
    "print(latex(simplified_expression))"
   ]
  },
  {
   "cell_type": "code",
   "execution_count": null,
   "metadata": {},
   "outputs": [],
   "source": [
    "from sympy import symbols, factorial, exp, Rational\n",
    "from sympy.functions.special.polynomials import assoc_laguerre\n",
    "from sympy.abc import n, l, r, Z\n",
    "\n",
    "# Define the symbols\n",
    "a0 = symbols('a_0')  # Bohr radius\n",
    "\n",
    "# Define the associated Laguerre polynomial function using sympy's built-in function\n",
    "def laguerre_poly(n, l, z):\n",
    "    return assoc_laguerre(n-l-1, 2*l+1, z)\n",
    "\n",
    "# Define the radial wave function for hydrogen\n",
    "def radial_wave_function(n, l, r):\n",
    "    pre_factor = (2*Z/n/a0)**Rational(3,2) * ((factorial(n-l-1) / (2*n*factorial(n+l)))**0.5)\n",
    "    radial_factor = (2*Z*r/n/a0)**l * exp(-Z*r/n/a0)\n",
    "    laguerre_factor = laguerre_poly(n, l, 2*Z*r/a0/n)\n",
    "    return pre_factor * radial_factor * laguerre_factor\n",
    "\n"
   ]
  }
 ],
 "metadata": {
  "kernelspec": {
   "display_name": "pyscf_env",
   "language": "python",
   "name": "python3"
  },
  "language_info": {
   "codemirror_mode": {
    "name": "ipython",
    "version": 3
   },
   "file_extension": ".py",
   "mimetype": "text/x-python",
   "name": "python",
   "nbconvert_exporter": "python",
   "pygments_lexer": "ipython3",
   "version": "3.8.17"
  }
 },
 "nbformat": 4,
 "nbformat_minor": 2
}
