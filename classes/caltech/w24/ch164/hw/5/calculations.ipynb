{
 "cells": [
  {
   "cell_type": "code",
   "execution_count": 2,
   "metadata": {},
   "outputs": [
    {
     "name": "stdout",
     "output_type": "stream",
     "text": [
      "kT \\left(\\log{\\left(N_{A} \\right)} - \\log{\\left(q_{A} \\right)}\\right)\n"
     ]
    }
   ],
   "source": [
    "from sympy import symbols, diff, log, latex\n",
    "\n",
    "# Define symbols\n",
    "kT, N_A, N_B, q_A, q_B = symbols('kT N_A N_B q_A q_B')\n",
    "\n",
    "# Define the free energy expression using Stirling's approximation\n",
    "F = kT * (N_A * log(N_A) - N_A - N_A * log(q_A) + N_B * log(N_B) - N_B - N_B * log(q_B))\n",
    "\n",
    "# Compute the derivatives\n",
    "mu_A = diff(F, N_A)\n",
    "mu_B = diff(F, N_B)\n",
    "\n",
    "# Display the results in LaTeX\n",
    "mu_A_latex = mu_A.simplify().doit()\n",
    "mu_B_latex = mu_B.simplify().doit()\n",
    "\n",
    "print(latex(mu_A_latex))\n",
    "# latex(mu_B_latex)\n"
   ]
  }
 ],
 "metadata": {
  "kernelspec": {
   "display_name": "pyscf_env",
   "language": "python",
   "name": "python3"
  },
  "language_info": {
   "codemirror_mode": {
    "name": "ipython",
    "version": 3
   },
   "file_extension": ".py",
   "mimetype": "text/x-python",
   "name": "python",
   "nbconvert_exporter": "python",
   "pygments_lexer": "ipython3",
   "version": "3.8.17"
  }
 },
 "nbformat": 4,
 "nbformat_minor": 2
}
