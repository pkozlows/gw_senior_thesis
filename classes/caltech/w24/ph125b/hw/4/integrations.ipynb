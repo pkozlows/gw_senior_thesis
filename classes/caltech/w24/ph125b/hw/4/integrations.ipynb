{
 "cells": [
  {
   "cell_type": "code",
   "execution_count": 7,
   "metadata": {},
   "outputs": [
    {
     "name": "stdout",
     "output_type": "stream",
     "text": [
      "0\n"
     ]
    }
   ],
   "source": [
    "from sympy import symbols, Function, exp, I, pi, integrate, oo, Sum, simplify, latex, DiracDelta\n",
    "\n",
    "# Define symbols\n",
    "x, L, d, n_p, n_q, n, N = symbols('x L d n_p n_q n N', integer=True)\n",
    "V_n = Function('V_n')(n)  # V_n as a function of n\n",
    "\n",
    "# evaluate the integral and simplify and print in latex: \\int_{0}^{L} \\mathrm{d} x e^{\\frac{2\\pi i x}{L}\\left( nN+n_{p}-n_{q}\\right)}\n",
    "integral = integrate(exp(2 * pi * I * x / L * (n * N + n_p - n_q)), (x, 0, L))\n",
    "integral = simplify(integral)\n",
    "print(latex(integral))\n"
   ]
  },
  {
   "cell_type": "code",
   "execution_count": 3,
   "metadata": {},
   "outputs": [
    {
     "name": "stdout",
     "output_type": "stream",
     "text": [
      "\\left[\\begin{matrix}\\frac{V_{mm}}{2} + \\frac{V_{nn}}{2} + \\frac{\\epsilon_{m}}{2} + \\frac{\\epsilon_{n}}{2} - \\frac{\\sqrt{V_{mm}^{2} - 2 V_{mm} V_{nn} + 2 V_{mm} \\epsilon_{m} - 2 V_{mm} \\epsilon_{n} + 4 V_{mn} V_{nm} + V_{nn}^{2} - 2 V_{nn} \\epsilon_{m} + 2 V_{nn} \\epsilon_{n} + \\epsilon_{m}^{2} - 2 \\epsilon_{m} \\epsilon_{n} + \\epsilon_{n}^{2}}}{2} & 0\\\\0 & \\frac{V_{mm}}{2} + \\frac{V_{nn}}{2} + \\frac{\\epsilon_{m}}{2} + \\frac{\\epsilon_{n}}{2} + \\frac{\\sqrt{V_{mm}^{2} - 2 V_{mm} V_{nn} + 2 V_{mm} \\epsilon_{m} - 2 V_{mm} \\epsilon_{n} + 4 V_{mn} V_{nm} + V_{nn}^{2} - 2 V_{nn} \\epsilon_{m} + 2 V_{nn} \\epsilon_{n} + \\epsilon_{m}^{2} - 2 \\epsilon_{m} \\epsilon_{n} + \\epsilon_{n}^{2}}}{2}\\end{matrix}\\right]\n"
     ]
    }
   ],
   "source": [
    "from sympy import symbols, Matrix, Function, diag, latex, simplify\n",
    "\n",
    "# Define symbols\n",
    "epsilon_n, epsilon_m = symbols('epsilon_n epsilon_m')\n",
    "V_nn, V_mm, V_nm, V_mn = symbols('V_nn V_mm V_nm V_mn')\n",
    "\n",
    "# Define the Hamiltonian matrix H_1\n",
    "H_1 = Matrix([\n",
    "    [epsilon_n + V_nn, V_nm],\n",
    "    [V_mn, epsilon_m + V_mm]\n",
    "])\n",
    "\n",
    "# Diagonalize the matrix\n",
    "eigenvals, eigenvects = H_1.diagonalize()\n",
    "\n",
    "# simplify the reslts\n",
    "eigenvals = simplify(eigenvals)\n",
    "eigenvects = simplify(eigenvects)\n",
    "# Print the first eigenvalue in latex\n",
    "# print(latex(eigenvals[0]))\n",
    "# Print the first eigenvector in latex\n",
    "print(latex(eigenvects))\n"
   ]
  },
  {
   "cell_type": "code",
   "execution_count": 7,
   "metadata": {},
   "outputs": [],
   "source": [
    "from sympy import symbols, Matrix, solve, sqrt, latex\n",
    "\n",
    "# Define symbols\n",
    "epsilon_n, epsilon_m = symbols('epsilon_n epsilon_m')\n",
    "V_nn, V_mm, V_nm, V_mn = symbols('V_nn V_mm V_nm V_mn')\n",
    "\n",
    "# Define the Hamiltonian matrix H_1\n",
    "H_1 = Matrix([\n",
    "    [epsilon_n + V_nn, V_nm],\n",
    "    [V_mn, epsilon_m + V_mm]\n",
    "])\n",
    "\n",
    "# Diagonalize the matrix to find eigenvalues and eigenvectors\n",
    "eigenvals = H_1.eigenvals()\n",
    "eigenvects = H_1.eigenvects()\n",
    "\n",
    "# Simplifying the eigenvalues and eigenvectors might be necessary\n",
    "for i in range(len(eigenvals)):\n",
    "    eigenvals[i] = eigenvals[i].simplify()\n",
    "for i in range(len(eigenvects)):\n",
    "    eigenvects[i][2][0] = eigenvects[i][2][0].simplify()\n",
    "# Print the eigenvalues and eigenvectors in LaTeX form\n",
    "print(\"Eigenvalues:\")\n",
    "for eigenval in eigenvals:\n",
    "    print(latex(eigenval))\n",
    "print(\"\\nEigenvectors:\")\n",
    "for eigenvect in eigenvects:\n",
    "    print(latex(eigenvect[2][0]))\n",
    "\n"
   ]
  }
 ],
 "metadata": {
  "kernelspec": {
   "display_name": "pyscf_env",
   "language": "python",
   "name": "python3"
  },
  "language_info": {
   "codemirror_mode": {
    "name": "ipython",
    "version": 3
   },
   "file_extension": ".py",
   "mimetype": "text/x-python",
   "name": "python",
   "nbconvert_exporter": "python",
   "pygments_lexer": "ipython3",
   "version": "3.8.17"
  }
 },
 "nbformat": 4,
 "nbformat_minor": 2
}
