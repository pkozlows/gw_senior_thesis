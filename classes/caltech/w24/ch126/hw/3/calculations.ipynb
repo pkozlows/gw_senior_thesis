{
 "cells": [
  {
   "cell_type": "code",
   "execution_count": 1,
   "metadata": {},
   "outputs": [
    {
     "name": "stdout",
     "output_type": "stream",
     "text": [
      "m_I = -1, E = 1.93e+08 J\n",
      "m_I = 0, E = -0.00e+00 J\n",
      "m_I = 1, E = -1.93e+08 J\n"
     ]
    }
   ],
   "source": [
    "import sympy as sp\n",
    "\n",
    "# Constants\n",
    "gamma_N = 1.9337798 * 10**7  # Gyromagnetic ratio in radians s^-1 T^-1\n",
    "B0 = 10  # Magnetic field strength in Tesla\n",
    "\n",
    "# Magnetic quantum numbers\n",
    "m_I_values = [-1, 0, 1]\n",
    "\n",
    "# Calculating the energy for each m_I\n",
    "energies = [-gamma_N * B0 * m_I for m_I in m_I_values]\n",
    "\n",
    "# Printing the results\n",
    "for m_I, energy in zip(m_I_values, energies):\n",
    "    print(\"m_I = {0}, E = {1:.2e} J\".format(m_I, energy))"
   ]
  },
  {
   "cell_type": "code",
   "execution_count": 2,
   "metadata": {},
   "outputs": [
    {
     "ename": "KeyboardInterrupt",
     "evalue": "",
     "output_type": "error",
     "traceback": [
      "\u001b[0;31m---------------------------------------------------------------------------\u001b[0m",
      "\u001b[0;31mKeyboardInterrupt\u001b[0m                         Traceback (most recent call last)",
      "Cell \u001b[0;32mIn[2], line 26\u001b[0m\n\u001b[1;32m     22\u001b[0m population_ratios \u001b[38;5;241m=\u001b[39m [sp\u001b[38;5;241m.\u001b[39mexp(\u001b[38;5;241m-\u001b[39mbeta \u001b[38;5;241m*\u001b[39m E) \u001b[38;5;241m/\u001b[39m Q \u001b[38;5;28;01mfor\u001b[39;00m E \u001b[38;5;129;01min\u001b[39;00m energies]\n\u001b[1;32m     25\u001b[0m \u001b[38;5;66;03m# Printing the results\u001b[39;00m\n\u001b[0;32m---> 26\u001b[0m \u001b[38;5;28;01mfor\u001b[39;00m m_I, P \u001b[38;5;129;01min\u001b[39;00m \u001b[38;5;28;43mzip\u001b[39;49m(m_I_values, population_ratios):\n\u001b[1;32m     27\u001b[0m     \u001b[38;5;28mprint\u001b[39m(\u001b[38;5;124m\"\u001b[39m\u001b[38;5;124mm_I = \u001b[39m\u001b[38;5;132;01m{0}\u001b[39;00m\u001b[38;5;124m, P = \u001b[39m\u001b[38;5;132;01m{1:.2e}\u001b[39;00m\u001b[38;5;124m\"\u001b[39m\u001b[38;5;241m.\u001b[39mformat(m_I, P))\n",
      "Cell \u001b[0;32mIn[2], line 26\u001b[0m\n\u001b[1;32m     22\u001b[0m population_ratios \u001b[38;5;241m=\u001b[39m [sp\u001b[38;5;241m.\u001b[39mexp(\u001b[38;5;241m-\u001b[39mbeta \u001b[38;5;241m*\u001b[39m E) \u001b[38;5;241m/\u001b[39m Q \u001b[38;5;28;01mfor\u001b[39;00m E \u001b[38;5;129;01min\u001b[39;00m energies]\n\u001b[1;32m     25\u001b[0m \u001b[38;5;66;03m# Printing the results\u001b[39;00m\n\u001b[0;32m---> 26\u001b[0m \u001b[38;5;28;01mfor\u001b[39;00m m_I, P \u001b[38;5;129;01min\u001b[39;00m \u001b[38;5;28;43mzip\u001b[39;49m(m_I_values, population_ratios):\n\u001b[1;32m     27\u001b[0m     \u001b[38;5;28mprint\u001b[39m(\u001b[38;5;124m\"\u001b[39m\u001b[38;5;124mm_I = \u001b[39m\u001b[38;5;132;01m{0}\u001b[39;00m\u001b[38;5;124m, P = \u001b[39m\u001b[38;5;132;01m{1:.2e}\u001b[39;00m\u001b[38;5;124m\"\u001b[39m\u001b[38;5;241m.\u001b[39mformat(m_I, P))\n",
      "File \u001b[0;32m_pydevd_bundle/pydevd_cython.pyx:1457\u001b[0m, in \u001b[0;36m_pydevd_bundle.pydevd_cython.SafeCallWrapper.__call__\u001b[0;34m()\u001b[0m\n",
      "File \u001b[0;32m_pydevd_bundle/pydevd_cython.pyx:701\u001b[0m, in \u001b[0;36m_pydevd_bundle.pydevd_cython.PyDBFrame.trace_dispatch\u001b[0;34m()\u001b[0m\n",
      "File \u001b[0;32m_pydevd_bundle/pydevd_cython.pyx:1152\u001b[0m, in \u001b[0;36m_pydevd_bundle.pydevd_cython.PyDBFrame.trace_dispatch\u001b[0;34m()\u001b[0m\n",
      "File \u001b[0;32m_pydevd_bundle/pydevd_cython.pyx:1135\u001b[0m, in \u001b[0;36m_pydevd_bundle.pydevd_cython.PyDBFrame.trace_dispatch\u001b[0;34m()\u001b[0m\n",
      "File \u001b[0;32m_pydevd_bundle/pydevd_cython.pyx:312\u001b[0m, in \u001b[0;36m_pydevd_bundle.pydevd_cython.PyDBFrame.do_wait_suspend\u001b[0;34m()\u001b[0m\n",
      "File \u001b[0;32m~/anaconda3/envs/pyscf_env/lib/python3.8/site-packages/debugpy/_vendored/pydevd/pydevd.py:2070\u001b[0m, in \u001b[0;36mPyDB.do_wait_suspend\u001b[0;34m(self, thread, frame, event, arg, exception_type)\u001b[0m\n\u001b[1;32m   2067\u001b[0m             from_this_thread\u001b[38;5;241m.\u001b[39mappend(frame_custom_thread_id)\n\u001b[1;32m   2069\u001b[0m     \u001b[38;5;28;01mwith\u001b[39;00m \u001b[38;5;28mself\u001b[39m\u001b[38;5;241m.\u001b[39m_threads_suspended_single_notification\u001b[38;5;241m.\u001b[39mnotify_thread_suspended(thread_id, thread, stop_reason):\n\u001b[0;32m-> 2070\u001b[0m         keep_suspended \u001b[38;5;241m=\u001b[39m \u001b[38;5;28;43mself\u001b[39;49m\u001b[38;5;241;43m.\u001b[39;49m\u001b[43m_do_wait_suspend\u001b[49m\u001b[43m(\u001b[49m\u001b[43mthread\u001b[49m\u001b[43m,\u001b[49m\u001b[43m \u001b[49m\u001b[43mframe\u001b[49m\u001b[43m,\u001b[49m\u001b[43m \u001b[49m\u001b[43mevent\u001b[49m\u001b[43m,\u001b[49m\u001b[43m \u001b[49m\u001b[43marg\u001b[49m\u001b[43m,\u001b[49m\u001b[43m \u001b[49m\u001b[43msuspend_type\u001b[49m\u001b[43m,\u001b[49m\u001b[43m \u001b[49m\u001b[43mfrom_this_thread\u001b[49m\u001b[43m,\u001b[49m\u001b[43m \u001b[49m\u001b[43mframes_tracker\u001b[49m\u001b[43m)\u001b[49m\n\u001b[1;32m   2072\u001b[0m frames_list \u001b[38;5;241m=\u001b[39m \u001b[38;5;28;01mNone\u001b[39;00m\n\u001b[1;32m   2074\u001b[0m \u001b[38;5;28;01mif\u001b[39;00m keep_suspended:\n\u001b[1;32m   2075\u001b[0m     \u001b[38;5;66;03m# This means that we should pause again after a set next statement.\u001b[39;00m\n",
      "File \u001b[0;32m~/anaconda3/envs/pyscf_env/lib/python3.8/site-packages/debugpy/_vendored/pydevd/pydevd.py:2106\u001b[0m, in \u001b[0;36mPyDB._do_wait_suspend\u001b[0;34m(self, thread, frame, event, arg, suspend_type, from_this_thread, frames_tracker)\u001b[0m\n\u001b[1;32m   2103\u001b[0m         \u001b[38;5;28mself\u001b[39m\u001b[38;5;241m.\u001b[39m_call_input_hook()\n\u001b[1;32m   2105\u001b[0m     \u001b[38;5;28mself\u001b[39m\u001b[38;5;241m.\u001b[39mprocess_internal_commands()\n\u001b[0;32m-> 2106\u001b[0m     \u001b[43mtime\u001b[49m\u001b[38;5;241;43m.\u001b[39;49m\u001b[43msleep\u001b[49m\u001b[43m(\u001b[49m\u001b[38;5;241;43m0.01\u001b[39;49m\u001b[43m)\u001b[49m\n\u001b[1;32m   2108\u001b[0m \u001b[38;5;28mself\u001b[39m\u001b[38;5;241m.\u001b[39mcancel_async_evaluation(get_current_thread_id(thread), \u001b[38;5;28mstr\u001b[39m(\u001b[38;5;28mid\u001b[39m(frame)))\n\u001b[1;32m   2110\u001b[0m \u001b[38;5;66;03m# process any stepping instructions\u001b[39;00m\n",
      "\u001b[0;31mKeyboardInterrupt\u001b[0m: "
     ]
    }
   ],
   "source": [
    "import sympy as sp\n",
    "\n",
    "# Constants\n",
    "gamma_N = 1.9337798 * 10**7  # Gyromagnetic ratio in radians s^-1 T^-1\n",
    "B0 = 10  # Magnetic field strength in Tesla\n",
    "k_B = 1.380649e-23  # Boltzmann's constant in J/K\n",
    "T = 295  # Temperature in Kelvin\n",
    "\n",
    "# Magnetic quantum numbers and energies\n",
    "m_I_values = [-1, 0, 1]\n",
    "energies = [-gamma_N * B0 * m_I for m_I in m_I_values]  # frequency for each m_I\n",
    "# convert this to energies by multiplying by the reduced Planck's constant\n",
    "rpc = 1.0545718e-34  # reduced Planck's constant in J s\n",
    "energies = [rpc * f for f in energies]\n",
    "\n",
    "# Beta (β = 1/(k_B * T))\n",
    "beta = 1 / (k_B * T)\n",
    "\n",
    "Q = sum(sp.exp(-beta * E) for E in energies)\n",
    "\n",
    "# Population ratio (P_j) for each state\n",
    "population_ratios = [sp.exp(-beta * E) / Q for E in energies]\n",
    "\n",
    "\n",
    "# Printing the results\n",
    "for m_I, P in zip(m_I_values, population_ratios):\n",
    "    print(\"m_I = {0}, P = {1:.2e}\".format(m_I, P))\n",
    "    \n"
   ]
  }
 ],
 "metadata": {
  "kernelspec": {
   "display_name": "pyscf_env",
   "language": "python",
   "name": "python3"
  },
  "language_info": {
   "codemirror_mode": {
    "name": "ipython",
    "version": 3
   },
   "file_extension": ".py",
   "mimetype": "text/x-python",
   "name": "python",
   "nbconvert_exporter": "python",
   "pygments_lexer": "ipython3",
   "version": "3.8.17"
  }
 },
 "nbformat": 4,
 "nbformat_minor": 2
}
