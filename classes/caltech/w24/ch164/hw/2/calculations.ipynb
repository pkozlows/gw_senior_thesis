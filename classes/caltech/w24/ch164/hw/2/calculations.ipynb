{
 "cells": [
  {
   "cell_type": "code",
   "execution_count": 3,
   "metadata": {},
   "outputs": [
    {
     "name": "stdout",
     "output_type": "stream",
     "text": [
      "- \\frac{N^{2} a}{V^{2}} - \\frac{N T k}{N b - V}\n"
     ]
    }
   ],
   "source": [
    "from sympy import symbols, diff, exp, ln, factorial, pi, simplify, latex\n",
    "\n",
    "# Define the symbols\n",
    "N, V, T, m, k, h, a, b = symbols('N V T m k h a b')\n",
    "\n",
    "# Partition function Q\n",
    "Q = (1 / factorial(N)) * ((2 * pi * m * k * T) / h**2)**(3/2 * N) * (V - N * b)**N * exp(a * N**2 / (V * k * T))\n",
    "\n",
    "# Natural logarithm of Q\n",
    "ln_Q = ln(Q)\n",
    "\n",
    "# Differentiate ln(Q) with respect to V\n",
    "dlnQ_dV = diff(ln_Q, V)\n",
    "\n",
    "# Pressure P\n",
    "P = k * T * dlnQ_dV\n",
    "\n",
    "# Simplify the expression for P\n",
    "P_simplified = simplify(P)\n",
    "\n",
    "# Convert the simplified expression to LaTeX\n",
    "P_latex = latex(P_simplified)\n",
    "\n",
    "print(P_latex)\n"
   ]
  },
  {
   "cell_type": "code",
   "execution_count": 8,
   "metadata": {},
   "outputs": [
    {
     "name": "stdout",
     "output_type": "stream",
     "text": [
      "- \\frac{1.0 N^{2} a}{T V} + 1.5 N k + 1.0 k \\log{\\left(\\frac{2^{1.5 N} \\pi^{1.5 N} \\left(\\frac{T k m}{h^{2}}\\right)^{1.5 N} \\left(- N b + V\\right)^{N} e^{\\frac{N^{2} a}{T V k}}}{\\Gamma\\left(N + 1\\right)} \\right)}\n"
     ]
    }
   ],
   "source": [
    "from sympy import symbols, diff, exp, ln, pi, simplify, latex, gamma\n",
    "\n",
    "# Define the symbols\n",
    "N, V, T, m, k, h, a, b = symbols('N V T m k h a b')\n",
    "\n",
    "# Partition function Q, using gamma(N+1) instead of factorial(N)\n",
    "Q = (1 / gamma(N + 1)) * ((2 * pi * m * k * T) / h**2)**(3/2 * N) * (V - N * b)**N * exp(a * N**2 / (V * k * T))\n",
    "\n",
    "# Helmholtz Free Energy A\n",
    "A = -k * T * ln(Q)\n",
    "\n",
    "# Differentiate A with respect to T\n",
    "dA_dT = diff(A, T)\n",
    "\n",
    "# Entropy S\n",
    "S = -dA_dT\n",
    "\n",
    "# Simplify S, ensuring rational output\n",
    "S_simplified = latex(simplify(S).ratsimp())\n",
    "\n",
    "# Display the result\n",
    "print(S_simplified)\n"
   ]
  },
  {
   "cell_type": "code",
   "execution_count": null,
   "metadata": {},
   "outputs": [],
   "source": []
  }
 ],
 "metadata": {
  "kernelspec": {
   "display_name": "base",
   "language": "python",
   "name": "python3"
  },
  "language_info": {
   "codemirror_mode": {
    "name": "ipython",
    "version": 3
   },
   "file_extension": ".py",
   "mimetype": "text/x-python",
   "name": "python",
   "nbconvert_exporter": "python",
   "pygments_lexer": "ipython3",
   "version": "3.11.3"
  }
 },
 "nbformat": 4,
 "nbformat_minor": 2
}
