{
 "cells": [
  {
   "cell_type": "code",
   "execution_count": 1,
   "metadata": {},
   "outputs": [
    {
     "name": "stdout",
     "output_type": "stream",
     "text": [
      "\\frac{2 e N - \\sqrt{\\left(4 e N + e^{\\beta \\epsilon}\\right) e^{\\beta \\epsilon}} + e^{\\beta \\epsilon}}{4 e}\n"
     ]
    }
   ],
   "source": [
    "from sympy import symbols, diff, ln, latex, Eq, solve, exp, simplify\n",
    "\n",
    "# Define symbols\n",
    "N, Np, beta, epsilon = symbols('N Np beta epsilon')\n",
    "\n",
    "# Define the function\n",
    "ln_t_Np = N * ln(N) - (N - 2*Np) * ln(N - 2*Np) - Np * ln(Np) - Np * ln(2) - beta * epsilon * Np\n",
    "\n",
    "# Differentiate ln(t_Np) with respect to Np\n",
    "d_ln_t_Np_dNp = diff(ln_t_Np, Np)\n",
    "\n",
    "# print(latex(d_ln_t_Np_dNp.simplify()))\n",
    "\n",
    "# solve for N_P here: \\exp{\\left(\\beta \\epsilon - 1 \\right)} = \\frac{(N - 2 N_p)^2}{2N_p}\n",
    "final_equation = Eq(exp(beta * epsilon - 1), (N - 2*Np)**2 / (2*Np))\n",
    "Np_solution = solve(final_equation, Np)\n",
    "print(latex(Np_solution[0].simplify()))"
   ]
  },
  {
   "cell_type": "code",
   "execution_count": 3,
   "metadata": {},
   "outputs": [
    {
     "name": "stdout",
     "output_type": "stream",
     "text": [
      "\\frac{x_{R}}{2 \\left(\\beta - x_{R}\\right)}\n"
     ]
    },
    {
     "ename": "IndexError",
     "evalue": "list index out of range",
     "output_type": "error",
     "traceback": [
      "\u001b[0;31m---------------------------------------------------------------------------\u001b[0m",
      "\u001b[0;31mIndexError\u001b[0m                                Traceback (most recent call last)",
      "Cell \u001b[0;32mIn[3], line 8\u001b[0m\n\u001b[1;32m      6\u001b[0m solution \u001b[38;5;241m=\u001b[39m solve(eq, exp(beta\u001b[38;5;241m*\u001b[39mmu))\n\u001b[1;32m      7\u001b[0m \u001b[38;5;28mprint\u001b[39m(latex(solution[\u001b[38;5;241m0\u001b[39m]\u001b[38;5;241m.\u001b[39msimplify()))\n\u001b[0;32m----> 8\u001b[0m \u001b[38;5;28mprint\u001b[39m(latex(solution[\u001b[38;5;241m1\u001b[39m]\u001b[38;5;241m.\u001b[39msimplify()))\n",
      "\u001b[0;31mIndexError\u001b[0m: list index out of range"
     ]
    }
   ],
   "source": [
    "from sympy import *\n",
    "# divine the symbols of the equation x_R = \\frac{2\\beta e^{\\beta\\mu}}{1+2e^{\\beta\\mu}}\n",
    "x_R, beta, mu = symbols('x_R beta mu')\n",
    "eq = Eq(x_R, 2*beta*exp(beta*mu)/(1+2*exp(beta*mu)))\n",
    "# solve for e^{\\beta\\mu}\n",
    "solution = solve(eq, exp(beta*mu))\n",
    "print(latex(solution[0].simplify()))"
   ]
  },
  {
   "cell_type": "code",
   "execution_count": 6,
   "metadata": {},
   "outputs": [
    {
     "name": "stdout",
     "output_type": "stream",
     "text": [
      "\\frac{2 N \\beta e^{\\beta \\mu} \\sinh{\\left(H \\beta \\right)}}{2 e^{\\beta \\mu} \\cosh{\\left(H \\beta \\right)} + 1}\n"
     ]
    }
   ],
   "source": [
    "from sympy import symbols, diff, cosh, exp, ln, latex, simplify\n",
    "\n",
    "# Define the symbols\n",
    "beta, mu, H, N = symbols('beta mu H N')\n",
    "\n",
    "# Define the grand canonical partition function\n",
    "Xi = (1 + 2*exp(beta*mu)*cosh(beta*H))**N\n",
    "\n",
    "# Compute the natural logarithm of the partition function\n",
    "ln_Xi = ln(Xi)\n",
    "\n",
    "# Perform the differentiation of ln(Xi) with respect to mu\n",
    "dlnXi_dH = diff(ln_Xi, H)\n",
    "\n",
    "print(latex(dlnXi_dH.simplify()))\n"
   ]
  },
  {
   "cell_type": "code",
   "execution_count": 7,
   "metadata": {},
   "outputs": [
    {
     "name": "stdout",
     "output_type": "stream",
     "text": [
      "\\frac{2 N \\beta \\left(2 e^{\\beta \\mu} + \\cosh{\\left(H \\beta \\right)}\\right) e^{\\beta \\mu}}{\\left(2 e^{\\beta \\mu} \\cosh{\\left(H \\beta \\right)} + 1\\right)^{2}}\n"
     ]
    }
   ],
   "source": [
    "from sympy import *\n",
    "# Define the symbols for \\langle M \\rangle = \\frac{2N e^{\\beta \\mu} \\sinh{\\left(H \\beta \\right)}}{2 e^{\\beta \\mu} \\cosh{\\left(H \\beta \\right)} + 1}\n",
    "N, beta, mu, H = symbols('N beta mu H')\n",
    "M = 2*N*exp(beta*mu)*sinh(H*beta) / (2*exp(beta*mu)*cosh(H*beta) + 1)\n",
    "# take the deviate with respect to H\n",
    "dM_dH = diff(M, H)\n",
    "print(latex(dM_dH.simplify()))"
   ]
  }
 ],
 "metadata": {
  "kernelspec": {
   "display_name": "base",
   "language": "python",
   "name": "python3"
  },
  "language_info": {
   "codemirror_mode": {
    "name": "ipython",
    "version": 3
   },
   "file_extension": ".py",
   "mimetype": "text/x-python",
   "name": "python",
   "nbconvert_exporter": "python",
   "pygments_lexer": "ipython3",
   "version": "3.11.3"
  }
 },
 "nbformat": 4,
 "nbformat_minor": 2
}
