{
 "cells": [
  {
   "cell_type": "code",
   "execution_count": 1,
   "metadata": {},
   "outputs": [
    {
     "name": "stdout",
     "output_type": "stream",
     "text": [
      "\\frac{T V k_{B} \\left(- N^{2} b^{2} + 2 N V b - V^{2}\\right)}{N \\left(2 N^{3} a b^{2} - 4 N^{2} V a b + 2 N V^{2} a - T V^{3} k_{B}\\right)}\n"
     ]
    }
   ],
   "source": [
    "from sympy import symbols, Eq, solve, diff, simplify, latex\n",
    "\n",
    "# Define symbols\n",
    "beta, p, a, b, N, V, k_B, T = symbols('beta p a b N V k_B T')\n",
    "\n",
    "# Average number density, rho = <N>/V\n",
    "rho = N/V\n",
    "\n",
    "# Define the van der Waals equation in the given form\n",
    "vdw_eq = Eq(beta*p, rho / (1 - b*rho) - beta*a*rho**2)\n",
    "\n",
    "# Substitute rho = N/V in the equation and beta = 1/(k_B*T)\n",
    "vdw_eq_sub = vdw_eq.subs(rho, N/V).subs(beta, 1/(k_B*T))\n",
    "\n",
    "# Solve the van der Waals equation for p after substitution\n",
    "p_solved = solve(vdw_eq_sub, p)[0]\n",
    "\n",
    "# Differentiate the solved pressure with respect to V\n",
    "dp_dV = diff(p_solved, V)\n",
    "\n",
    "# Simplify the derivative to make it more manageable\n",
    "dp_dV_simplified = simplify(dp_dV)\n",
    "\n",
    "# Take the inverse of this to get the derivative of volume with respect to pressure\n",
    "dV_dp = 1/dp_dV_simplified\n",
    "\n",
    "# Express the isothermal compressibility using what we have found \\kappa _T = -\\frac{1}{V}\\left(\\frac{\\partial V}{\\partial p}\\right)_T\n",
    "kappa_T = -1/V * dV_dp\n",
    "\n",
    "# Find the variance in the particle number using \\sigma _{N}^2 = k_B T N rho \\kappa _T\n",
    "sigma_N2 = kappa_T * N * rho * k_B * T\n",
    "\n",
    "# Divide by N^2 to get the relative variance\n",
    "rel_var_N = sigma_N2 / N**2\n",
    "\n",
    "# Print the result in simplified form and in latex\n",
    "print(latex(simplify(rel_var_N)))"
   ]
  },
  {
   "cell_type": "code",
   "execution_count": 19,
   "metadata": {},
   "outputs": [
    {
     "name": "stdout",
     "output_type": "stream",
     "text": [
      "Temperature: 0.325925925925926*a/(b*k_B), Relative Variance: 0.108641975308642*a*kappa_T/(N*b**2)\n",
      "Temperature: 0.296592592592593*a/(b*k_B), Relative Variance: 0.0988641975308642*a*kappa_T/(N*b**2)\n",
      "Temperature: 0.296299259259259*a/(b*k_B), Relative Variance: 0.0987664197530864*a*kappa_T/(N*b**2)\n"
     ]
    }
   ],
   "source": [
    "from sympy import symbols, Eq, solve, diff, simplify, latex\n",
    "\n",
    "# Define symbols\n",
    "a, b, k_B, T, N, V, L = symbols('a b k_B T N V L')\n",
    "\n",
    "rho_c = 1/(3*b)\n",
    "T_c = 8*a/(27*b*k_B)  # Critical temperature\n",
    "\n",
    "# Define the volume of the region as L^3\n",
    "V = L**3  # Assuming L^3 is the volume\n",
    "\n",
    "# Temperature adjustments\n",
    "T_adjustments = [T_c * factor for factor in [1.1, 1.001, 1.00001]]\n",
    "\n",
    "# Assuming you have an expression for sigma_N^2 and kappa_T\n",
    "kappa_T = symbols('kappa_T')  # Placeholder\n",
    "sigma_N2 = k_B * T * N * rho_c * kappa_T  # Placeholder formula for sigma_N^2\n",
    "\n",
    "# Compute the relative variance sigma_rho^2 / rho^2\n",
    "# Assuming sigma_N2 / N^2 gives sigma_rho^2 / rho^2 directly\n",
    "rel_var_N = sigma_N2 / N**2\n",
    "\n",
    "# Loop over each adjusted temperature\n",
    "for T_adj in T_adjustments:\n",
    "    # Compute or substitute T_adj into your expressions as needed\n",
    "    # This step depends on how you've structured your expressions for fluctuations\n",
    "    print(f'Temperature: {T_adj}, Relative Variance: {rel_var_N.subs(T, T_adj)}')\n",
    "\n",
    "# Note: This script contains placeholders and conceptual steps. Actual computation\n",
    "# of sigma_N2, kappa_T, and their dependencies need to be defined based on\n",
    "# the van der Waals equation and fluctuation theory.\n"
   ]
  },
  {
   "cell_type": "code",
   "execution_count": null,
   "metadata": {},
   "outputs": [],
   "source": []
  },
  {
   "cell_type": "code",
   "execution_count": null,
   "metadata": {},
   "outputs": [],
   "source": [
    "from sympy import symbols, solve, diff, Eq\n",
    "\n",
    "# Define symbols\n",
    "N, b, a, k_B, T = symbols('N b a k_B T')\n",
    "rho_c, T_c = symbols('rho_c T_c')  # Critical density and temperature\n",
    "\n",
    "# Assuming rho_c and T_c have been determined...\n",
    "# Temperature adjustments\n",
    "T_10 = T_c * 1.10  # 10% above critical temperature\n",
    "T_01 = T_c * 1.001  # 0.1% above\n",
    "T_001 = T_c * 1.0001  # 0.001% above\n",
    "\n",
    "# For calculations involving V = 100b, use substitution in your expressions where needed\n"
   ]
  }
 ],
 "metadata": {
  "kernelspec": {
   "display_name": "base",
   "language": "python",
   "name": "python3"
  },
  "language_info": {
   "codemirror_mode": {
    "name": "ipython",
    "version": 3
   },
   "file_extension": ".py",
   "mimetype": "text/x-python",
   "name": "python",
   "nbconvert_exporter": "python",
   "pygments_lexer": "ipython3",
   "version": "3.11.3"
  }
 },
 "nbformat": 4,
 "nbformat_minor": 2
}
