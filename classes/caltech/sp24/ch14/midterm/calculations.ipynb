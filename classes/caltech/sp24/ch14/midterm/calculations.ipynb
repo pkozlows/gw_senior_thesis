{
 "cells": [
  {
   "cell_type": "code",
   "execution_count": 1,
   "metadata": {},
   "outputs": [
    {
     "name": "stdout",
     "output_type": "stream",
     "text": [
      "Fraction of H2A+ (glycine with 2 protons): 0.0000\n",
      "Fraction of HA (glycine with 1 proton): 0.5000\n",
      "Fraction of A- (glycine with 0 protons): 0.5000\n"
     ]
    }
   ],
   "source": [
    "import math\n",
    "\n",
    "# Constants\n",
    "pK1 = 2.35\n",
    "pK2 = 9.78\n",
    "\n",
    "# Equilibrium constants\n",
    "K1 = 10**(-pK1)\n",
    "K2 = 10**(-pK2)\n",
    "\n",
    "# Proton concentration at pH = pK2\n",
    "H_plus = 10**(-pK2)\n",
    "\n",
    "# Fractions of each form of glycine\n",
    "f_H2A_plus = H_plus**2 / (H_plus**2 + K1 * H_plus + K1 * K2)\n",
    "f_HA = K1 * H_plus / (H_plus**2 + K1 * H_plus + K1 * K2)\n",
    "f_A_minus = K1 * K2 / (H_plus**2 + K1 * H_plus + K1 * K2)\n",
    "\n",
    "print(f\"Fraction of H2A+ (glycine with 2 protons): {f_H2A_plus:.4f}\")\n",
    "print(f\"Fraction of HA (glycine with 1 proton): {f_HA:.4f}\")\n",
    "print(f\"Fraction of A- (glycine with 0 protons): {f_A_minus:.4f}\")\n"
   ]
  }
 ],
 "metadata": {
  "kernelspec": {
   "display_name": "pyscf_env",
   "language": "python",
   "name": "python3"
  },
  "language_info": {
   "codemirror_mode": {
    "name": "ipython",
    "version": 3
   },
   "file_extension": ".py",
   "mimetype": "text/x-python",
   "name": "python",
   "nbconvert_exporter": "python",
   "pygments_lexer": "ipython3",
   "version": "3.8.17"
  }
 },
 "nbformat": 4,
 "nbformat_minor": 2
}
