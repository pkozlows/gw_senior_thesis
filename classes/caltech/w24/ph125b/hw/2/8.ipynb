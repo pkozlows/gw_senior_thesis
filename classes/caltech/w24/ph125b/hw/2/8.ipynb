{
 "cells": [
  {
   "cell_type": "code",
   "execution_count": 2,
   "metadata": {},
   "outputs": [
    {
     "name": "stdout",
     "output_type": "stream",
     "text": [
      "bra = 1, ket = 1:\n",
      "A1**2*L**3*hbar**2/(6*m)\n",
      "bra = 1, ket = 2:\n",
      "0\n",
      "bra = 2, ket = 1:\n",
      "0\n",
      "bra = 2, ket = 2:\n",
      "A2**2*L**5*hbar**2/(40*m)\n"
     ]
    }
   ],
   "source": [
    "import sympy as sp\n",
    "# Define the symbols\n",
    "x, L, A1, A2, hbar, m = sp.symboPhysics homeworkls('x L A1 A2 hbar m')\n",
    "# first normalization constant\n",
    "fn1 = A1 * ((L/2)**2 - x**2)\n",
    "first_integral = sp.integrate(fn1**2, (x, -L/2, L/2))\n",
    "first_equation = sp.Eq(first_integral, 1)\n",
    "first_A1 = sp.solve(first_equation, A1)\n",
    "# second normalization constant\n",
    "fn2 = A2 * x * ((L/2)**2 - x**2)\n",
    "second_integral = sp.integrate(fn2**2, (x, -L/2, L/2))\n",
    "second_equation = sp.Eq(second_integral, 1)\n",
    "second_A2 = sp.solve(second_equation, A2)\n",
    "# lope over all of the possibilities\n",
    "for bra in [1, 2]:\n",
    "    for ket in [1, 2]:\n",
    "        # define the wave function\n",
    "        if bra == 1:\n",
    "            bra_function = fn1\n",
    "        elif bra == 2:\n",
    "            bra_function = fn2\n",
    "        if ket == 1:\n",
    "            ket_function = fn1\n",
    "        elif ket == 2:\n",
    "            ket_function = fn2\n",
    "        # Define the Hamiltonian operator part: -hbar^2 / (2m) * d^2/dx^2\n",
    "        Hamiltonian_operator = (-hbar**2 / (2*m)) * sp.diff(ket_function, x, 2)\n",
    "\n",
    "        # Calculate the integral\n",
    "        integral_result_Hamiltonian = sp.integrate(bra_function * Hamiltonian_operator, (x, -L/2, L/2))\n",
    "        integral_result_Hamiltonian.simplify()\n",
    "        # Print the result\n",
    "        print('bra = {}, ket = {}:'.format(bra, ket))\n",
    "        print(integral_result_Hamiltonian)"
   ]
  },
  {
   "cell_type": "code",
   "execution_count": 2,
   "metadata": {},
   "outputs": [
    {
     "name": "stdout",
     "output_type": "stream",
     "text": [
      "z   sin(z)⋅cos(z)\n",
      "─ - ─────────────\n",
      "2         2      \n"
     ]
    }
   ],
   "source": [
    "import sympy as sp\n",
    "# Define the symbols\n",
    "x_0, x_e, beta, z, theta_0, anergy = sp.symbols('x_0 x_e beta z theta_0 anergy')\n",
    "gamma = sp.integrate(sp.sin(z)**2, z )\n",
    "sp.pprint(gamma)"
   ]
  },
  {
   "cell_type": "code",
   "execution_count": 3,
   "metadata": {},
   "outputs": [
    {
     "name": "stdout",
     "output_type": "stream",
     "text": [
      "The value of x_e is approximately 60.74 fm\n"
     ]
    }
   ],
   "source": [
    "import sympy as sp\n",
    "\n",
    "def calculate_xe(E_MeV):\n",
    "    # Define the symbols\n",
    "    e = sp.symbols('e')  # elementary charge\n",
    "    epsilon_0 = sp.symbols('epsilon_0')  # vacuum permittivity\n",
    "    E = sp.symbols('E')  # energy in Joules\n",
    "\n",
    "    # Define the expression for x_e\n",
    "    x_e_expr = 180 * e**2 / (4 * sp.pi * epsilon_0 * E)\n",
    "\n",
    "    # Constants\n",
    "    e_value = 1.602e-19  # elementary charge in Coulombs\n",
    "    epsilon_0_value = 8.854e-12  # vacuum permittivity in C^2/N·m^2\n",
    "    E_Joules = E_MeV * 1.602e-13  # Convert energy from MeV to Joules\n",
    "\n",
    "    # Substitute constants and calculate x_e\n",
    "    x_e = x_e_expr.subs({e: e_value, epsilon_0: epsilon_0_value, E: E_Joules})\n",
    "\n",
    "    # Convert x_e to femtometers (1 fm = 1e-15 m)\n",
    "    return x_e / 1e-15\n",
    "\n",
    "def main():\n",
    "    # User input for the energy in MeV\n",
    "    E_MeV = float(input(\"Enter the energy in MeV: \"))\n",
    "\n",
    "    # Calculate and display x_e\n",
    "    x_e_fm = calculate_xe(E_MeV)\n",
    "    print(f\"The value of x_e is approximately {x_e_fm.evalf():.2f} fm\")\n",
    "\n",
    "if __name__ == \"__main__\":\n",
    "    main()\n"
   ]
  },
  {
   "cell_type": "code",
   "execution_count": 16,
   "metadata": {},
   "outputs": [
    {
     "name": "stdout",
     "output_type": "stream",
     "text": [
      "The estimated decay rate is 7.17336680189066E+20 s^-1\n",
      "The estimated half-life is 1.39404554042383e-21*log(2) s\n"
     ]
    }
   ],
   "source": [
    "import sympy as sp\n",
    "\n",
    "# Define the symbols\n",
    "m, E, x_0, e, epsilon_0 = sp.symbols('m E x_0 e epsilon_0')\n",
    "\n",
    "# Constants\n",
    "E_value = 4.267  # Energy in MeV\n",
    "E_Joules = E_value * 1.602e-13  # Convert energy from MeV to Joules\n",
    "e_value = 1.602e-19  # elementary charge in Coulombs\n",
    "epsilon_0_value = 8.854e-12  # vacuum permittivity in C^2/N·m^2\n",
    "m_value = 4 * 1.66053904e-27  # Mass of alpha particle (4 times the mass of a proton)\n",
    "x_e_value = 60.74e-15  # x_e value in meters\n",
    "\n",
    "# Calculation of beta\n",
    "beta_expr = 180 * e**2 / (4 * sp.pi * epsilon_0)\n",
    "beta_value = beta_expr.subs({e: e_value, epsilon_0: epsilon_0_value})\n",
    "\n",
    "# Calculation for Delta\n",
    "rho = x_0 / x_e_value\n",
    "theta_0 = sp.acos(sp.sqrt(rho))\n",
    "delta_expr = sp.sqrt(2 * m * beta_expr * x_e_value) * (theta_0 - sp.sqrt(rho) * sp.sqrt(1 - rho))\n",
    "delta_value = delta_expr.subs({m: m_value, e: e_value, epsilon_0: epsilon_0_value, x_0: rho * x_e_value})\n",
    "\n",
    "# Calculation of Decay Rate R\n",
    "v_expr = sp.sqrt(2 * E / m)  # Velocity of alpha particle\n",
    "f_expr = v_expr / (2 * x_0)  # Frequency of striking the barrier\n",
    "R_expr = f_expr * sp.exp(-delta_value)  # Decay rate\n",
    "\n",
    "# Function to calculate decay rate and half-life\n",
    "def calculate_decay_rate_and_half_life(x_0_value):\n",
    "    decay_rate = R_expr.subs({x_0: x_0_value, m: m_value, E: E_Joules}).evalf()\n",
    "    half_life = sp.log(2) / decay_rate  # Half-life calculation\n",
    "    return decay_rate, half_life\n",
    "\n",
    "# Example usage\n",
    "x_0_example = 10e-15  # Example value for x_0 in meters\n",
    "hbar = 1.0545718e-34  # Reduced Planck constant\n",
    "decay_rate, half_life = calculate_decay_rate_and_half_life(x_0_example)\n",
    "print(f\"The estimated decay rate is {decay_rate} s^-1\")\n",
    "print(f\"The estimated half-life is {half_life} s\")\n"
   ]
  },
  {
   "cell_type": "code",
   "execution_count": null,
   "metadata": {},
   "outputs": [],
   "source": [
    "# calculation for 5 (eV)\n",
    "rydberg = 13.6 # eV\n",
    "# make a dictionary that contains the atomic number and number of electrons for li, be, and n\n",
    "numbers = {'li': [3, 3], 'be': [4, 4], 'n': [7, 7]}\n",
    "# my variational formula\n",
    "def variational_formula(Z, n):\n",
    "    value = n * (Z - (5/16)*(n-1))**2\n",
    "# loop over the dictionary\n",
    "for key in numbers:\n",
    "    # get the values\n",
    "    Z = numbers[key][0]\n",
    "    n = numbers[key][1]\n",
    "    full = variational_formula(Z, n)\n",
    "    ion = variational_formula(Z, n-1)\n",
    "    # front the differences\n",
    "    difference = full - ion\n",
    "    # print the resultst\n",
    "    print('For {}:'.format(key))\n",
    "    print('The full energy is {} eV'.format(full))\n",
    "    print('The ion energy is {} eV'.format(ion))\n",
    "    print('The difference is {} eV'.format(difference))"
   ]
  }
 ],
 "metadata": {
  "kernelspec": {
   "display_name": "pyscf_env",
   "language": "python",
   "name": "python3"
  },
  "language_info": {
   "codemirror_mode": {
    "name": "ipython",
    "version": 3
   },
   "file_extension": ".py",
   "mimetype": "text/x-python",
   "name": "python",
   "nbconvert_exporter": "python",
   "pygments_lexer": "ipython3",
   "version": "3.8.17"
  }
 },
 "nbformat": 4,
 "nbformat_minor": 2
}
