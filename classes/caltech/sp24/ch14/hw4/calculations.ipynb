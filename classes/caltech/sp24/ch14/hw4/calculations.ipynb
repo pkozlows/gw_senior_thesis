{
 "cells": [
  {
   "cell_type": "markdown",
   "metadata": {},
   "source": [
    "1a"
   ]
  },
  {
   "cell_type": "code",
   "execution_count": 4,
   "metadata": {},
   "outputs": [
    {
     "data": {
      "text/latex": [
       "$\\displaystyle 5.9995552710204 - 1.36437635384184 i$"
      ],
      "text/plain": [
       "5.9995552710204 - 1.36437635384184*I"
      ]
     },
     "execution_count": 4,
     "metadata": {},
     "output_type": "execute_result"
    }
   ],
   "source": [
    "import sympy as sp\n",
    "\n",
    "# Given constants\n",
    "Ka2 = 5.01e-11\n",
    "initial_HCO3 = 0.02\n",
    "x = sp.symbols('x')\n",
    "final_HCO3 = 0.02 - x\n",
    "final_H = x\n",
    "final_CO3 = x\n",
    "eq = Ka2 - (final_H * final_CO3) / final_HCO3\n",
    "x = sp.solve(eq, x)\n",
    "# now get the pH\n",
    "H = x[0]\n",
    "pH = -sp.log(H, 10)\n",
    "pH.evalf()\n"
   ]
  },
  {
   "cell_type": "markdown",
   "metadata": {},
   "source": [
    "1b"
   ]
  },
  {
   "cell_type": "code",
   "execution_count": 5,
   "metadata": {},
   "outputs": [
    {
     "data": {
      "text/latex": [
       "$\\displaystyle 11.3222801661744 + 1.36437635384184 i$"
      ],
      "text/plain": [
       "11.3222801661744 + 1.36437635384184*I"
      ]
     },
     "execution_count": 5,
     "metadata": {},
     "output_type": "execute_result"
    }
   ],
   "source": [
    "import sympy as sp\n",
    "\n",
    "# Given constants\n",
    "Ka2 = 5.01e-11\n",
    "# calculate the Kb from the Ka2\n",
    "Kw = 1e-14\n",
    "Kb = Kw / Ka2\n",
    "initial_CO3 = 0.02\n",
    "x = sp.symbols('x')\n",
    "final_CO3 = 0.02 - x\n",
    "final_OH = x\n",
    "final_HCO3 = x\n",
    "eq = Kb - (final_OH * final_HCO3) / final_CO3\n",
    "x = sp.solve(eq, x)\n",
    "# now get the pOH\n",
    "OH = x[0]\n",
    "pOH = -sp.log(OH, 10)\n",
    "# convert this into a pH\n",
    "pH = 14 - pOH\n",
    "pH.evalf()"
   ]
  },
  {
   "cell_type": "markdown",
   "metadata": {},
   "source": [
    "2"
   ]
  },
  {
   "cell_type": "code",
   "execution_count": null,
   "metadata": {},
   "outputs": [
    {
     "data": {
      "text/latex": [
       "$\\displaystyle 11.3222801661744 + 1.36437635384184 i$"
      ],
      "text/plain": [
       "11.3222801661744 + 1.36437635384184*I"
      ]
     },
     "metadata": {},
     "output_type": "display_data"
    }
   ],
   "source": [
    "import sympy as sp\n",
    "\n",
    "pH = 7.5\n",
    "H = 10**(-pH)\n",
    "Ksp = 4.5e-9"
   ]
  },
  {
   "cell_type": "code",
   "execution_count": 3,
   "metadata": {},
   "outputs": [
    {
     "data": {
      "text/latex": [
       "$\\displaystyle 0.381966011250105$"
      ],
      "text/plain": [
       "0.381966011250105"
      ]
     },
     "execution_count": 3,
     "metadata": {},
     "output_type": "execute_result"
    }
   ],
   "source": [
    "import sympy as sp\n",
    "\n",
    "# Define the symbols\n",
    "ml, k = sp.symbols('ml k')\n",
    "\n",
    "# Define the equation\n",
    "eq = sp.Eq(k, ml / ((1 / k - ml)**2))\n",
    "\n",
    "# Solve the equation for ml\n",
    "ml_solution = sp.solve(eq, ml)\n",
    "\n",
    "# Select the physically meaningful solution\n",
    "ml_solution = ml_solution[0]  # typically the positive root\n",
    "\n",
    "# Define the total metal concentration\n",
    "M_tot = 1 / k\n",
    "\n",
    "# Calculate the value of bar_n\n",
    "n_bar = ml_solution / M_tot\n",
    "\n",
    "# Simplify the expression for n_bar\n",
    "n_bar = sp.simplify(n_bar)\n",
    "\n",
    "# Display the simplified n_bar\n",
    "n_bar.evalf()\n"
   ]
  }
 ],
 "metadata": {
  "kernelspec": {
   "display_name": "pyscf_env",
   "language": "python",
   "name": "python3"
  },
  "language_info": {
   "codemirror_mode": {
    "name": "ipython",
    "version": 3
   },
   "file_extension": ".py",
   "mimetype": "text/x-python",
   "name": "python",
   "nbconvert_exporter": "python",
   "pygments_lexer": "ipython3",
   "version": "3.8.17"
  }
 },
 "nbformat": 4,
 "nbformat_minor": 2
}
