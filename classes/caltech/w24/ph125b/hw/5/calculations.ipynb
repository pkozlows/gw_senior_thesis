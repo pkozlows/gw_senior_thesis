{
 "cells": [
  {
   "cell_type": "code",
   "execution_count": 4,
   "metadata": {},
   "outputs": [
    {
     "name": "stdout",
     "output_type": "stream",
     "text": [
      "\\frac{1}{r}\n"
     ]
    }
   ],
   "source": [
    "from sympy import *\n",
    "mu, r = symbols('mu r')\n",
    "\n",
    "# I want to solve this minimization problem by differentiating with respect to mu: \\dv{\\mu}\\left(-\\mu + \\frac{\\mu^2 r}{2}\\right) = 0\n",
    "\n",
    "minimization_problem = Eq(diff(-mu + mu**2 * r / 2, mu), 0)\n",
    "mu_solution = solve(minimization_problem, mu)\n",
    "\n",
    "print(latex(mu_solution[0].simplify()))"
   ]
  }
 ],
 "metadata": {
  "kernelspec": {
   "display_name": "pyscf_env",
   "language": "python",
   "name": "python3"
  },
  "language_info": {
   "codemirror_mode": {
    "name": "ipython",
    "version": 3
   },
   "file_extension": ".py",
   "mimetype": "text/x-python",
   "name": "python",
   "nbconvert_exporter": "python",
   "pygments_lexer": "ipython3",
   "version": "3.8.17"
  }
 },
 "nbformat": 4,
 "nbformat_minor": 2
}
