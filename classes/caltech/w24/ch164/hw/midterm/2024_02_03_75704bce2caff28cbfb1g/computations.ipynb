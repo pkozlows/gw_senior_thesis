{
 "cells": [
  {
   "cell_type": "code",
   "execution_count": 1,
   "metadata": {},
   "outputs": [
    {
     "name": "stdout",
     "output_type": "stream",
     "text": [
      "\\frac{2 e N - \\sqrt{\\left(4 e N + e^{\\beta \\epsilon}\\right) e^{\\beta \\epsilon}} + e^{\\beta \\epsilon}}{4 e}\n"
     ]
    }
   ],
   "source": [
    "from sympy import symbols, diff, ln, latex, Eq, solve, exp, simplify\n",
    "\n",
    "# Define symbols\n",
    "N, Np, beta, epsilon = symbols('N Np beta epsilon')\n",
    "\n",
    "# Define the function\n",
    "ln_t_Np = N * ln(N) - (N - 2*Np) * ln(N - 2*Np) - Np * ln(Np) - Np * ln(2) - beta * epsilon * Np\n",
    "\n",
    "# Differentiate ln(t_Np) with respect to Np\n",
    "d_ln_t_Np_dNp = diff(ln_t_Np, Np)\n",
    "\n",
    "# print(latex(d_ln_t_Np_dNp.simplify()))\n",
    "\n",
    "# solve for N_P here: \\exp{\\left(\\beta \\epsilon - 1 \\right)} = \\frac{(N - 2 N_p)^2}{2N_p}\n",
    "final_equation = Eq(exp(beta * epsilon - 1), (N - 2*Np)**2 / (2*Np))\n",
    "Np_solution = solve(final_equation, Np)\n",
    "print(latex(Np_solution[0].simplify()))"
   ]
  },
  {
   "cell_type": "code",
   "execution_count": 2,
   "metadata": {},
   "outputs": [
    {
     "name": "stdout",
     "output_type": "stream",
     "text": [
      "\\left[ \\frac{\\log{\\left(\\frac{L_{avg}}{- L_{avg} + N b} \\right)}}{b \\beta}\\right]\n"
     ]
    }
   ],
   "source": [
    "from sympy import symbols, solve, Eq, exp, ln, latex\n",
    "\n",
    "# Define symbols\n",
    "L_avg, N, b, beta, F = symbols('L_avg N b beta F')\n",
    "\n",
    "# Given equation for L_avg\n",
    "L_avg_eq = Eq(L_avg, N * b * exp(beta * F * b) / (1 + exp(beta * F * b)))\n",
    "\n",
    "# Solve the equation for exp(beta * F * b)\n",
    "exp_beta_Fb_solution = solve(L_avg_eq, exp(beta * F * b))[0]\n",
    "\n",
    "# Express the solution in terms of F\n",
    "F_solution = solve(Eq(exp_beta_Fb_solution, exp(beta * F * b)), F)\n",
    "\n",
    "print(latex(F_solution))\n"
   ]
  },
  {
   "cell_type": "code",
   "execution_count": 5,
   "metadata": {},
   "outputs": [
    {
     "name": "stdout",
     "output_type": "stream",
     "text": [
      "\\frac{4}{N b^{2} \\beta}\n"
     ]
    }
   ],
   "source": [
    "from sympy import diff, symbols, log, solve, Eq, latex, simplify\n",
    "\n",
    "# Define symbols\n",
    "L_avg, L_0, N, b, beta, F = symbols('L_avg L_0 N b beta F')\n",
    "\n",
    "# Given F(L_avg) equation from previous solution\n",
    "F_L = log(L_avg / (-L_avg + N * b)) / (b * beta)\n",
    "\n",
    "# Calculate the first derivative of F with respect to L_avg\n",
    "dF_dL = diff(F_L, L_avg)\n",
    "\n",
    "# evaluate this derivative at the inital length ofL_0 = N b \\frac{1}{2}\n",
    "dF_dL_at_L0 = dF_dL.subs(L_avg, N * b / 2)\n",
    "\n",
    "\n",
    "print(latex(dF_dL_at_L0.simplify()))"
   ]
  },
  {
   "cell_type": "code",
   "execution_count": 8,
   "metadata": {},
   "outputs": [
    {
     "name": "stdout",
     "output_type": "stream",
     "text": [
      "k \\left(- \\log{\\left(n \\right)} + \\log{\\left(N - n \\right)}\\right)\n"
     ]
    }
   ],
   "source": [
    "from sympy import *\n",
    "\n",
    "# Define symbols\n",
    "S, k, omega, N, n = symbols('S k omega N n')\n",
    "\n",
    "# Define the function we want to differentiate S = k \\ln(\\Omega) \\approx k \\left( N \\ln(N) - n \\ln(n) - (N-n) \\ln(N-n) \\right)\n",
    "entropy = k * (N * ln(N) - n * ln(n) - (N - n) * ln(N - n))\n",
    "\n",
    "# Differentiate the entropy with respect to n\n",
    "dS_dn = diff(entropy, n)\n",
    "\n",
    "# print the result\n",
    "print(latex(dS_dn.simplify()))"
   ]
  },
  {
   "cell_type": "code",
   "execution_count": 3,
   "metadata": {},
   "outputs": [
    {
     "name": "stdout",
     "output_type": "stream",
     "text": [
      "\\frac{x_{R}}{2 \\left(\\beta - x_{R}\\right)}\n"
     ]
    },
    {
     "ename": "IndexError",
     "evalue": "list index out of range",
     "output_type": "error",
     "traceback": [
      "\u001b[0;31m---------------------------------------------------------------------------\u001b[0m",
      "\u001b[0;31mIndexError\u001b[0m                                Traceback (most recent call last)",
      "Cell \u001b[0;32mIn[3], line 8\u001b[0m\n\u001b[1;32m      6\u001b[0m solution \u001b[38;5;241m=\u001b[39m solve(eq, exp(beta\u001b[38;5;241m*\u001b[39mmu))\n\u001b[1;32m      7\u001b[0m \u001b[38;5;28mprint\u001b[39m(latex(solution[\u001b[38;5;241m0\u001b[39m]\u001b[38;5;241m.\u001b[39msimplify()))\n\u001b[0;32m----> 8\u001b[0m \u001b[38;5;28mprint\u001b[39m(latex(solution[\u001b[38;5;241m1\u001b[39m]\u001b[38;5;241m.\u001b[39msimplify()))\n",
      "\u001b[0;31mIndexError\u001b[0m: list index out of range"
     ]
    }
   ],
   "source": [
    "from sympy import *\n",
    "# divine the symbols of the equation x_R = \\frac{2\\beta e^{\\beta\\mu}}{1+2e^{\\beta\\mu}}\n",
    "x_R, beta, mu = symbols('x_R beta mu')\n",
    "eq = Eq(x_R, 2*beta*exp(beta*mu)/(1+2*exp(beta*mu)))\n",
    "# solve for e^{\\beta\\mu}\n",
    "solution = solve(eq, exp(beta*mu))\n",
    "print(latex(solution[0].simplify()))"
   ]
  },
  {
   "cell_type": "code",
   "execution_count": 6,
   "metadata": {},
   "outputs": [
    {
     "name": "stdout",
     "output_type": "stream",
     "text": [
      "\\frac{2 N \\beta e^{\\beta \\mu} \\sinh{\\left(H \\beta \\right)}}{2 e^{\\beta \\mu} \\cosh{\\left(H \\beta \\right)} + 1}\n"
     ]
    }
   ],
   "source": [
    "from sympy import symbols, diff, cosh, exp, ln, latex, simplify\n",
    "\n",
    "# Define the symbols\n",
    "beta, mu, H, N = symbols('beta mu H N')\n",
    "\n",
    "# Define the grand canonical partition function\n",
    "Xi = (1 + 2*exp(beta*mu)*cosh(beta*H))**N\n",
    "\n",
    "# Compute the natural logarithm of the partition function\n",
    "ln_Xi = ln(Xi)\n",
    "\n",
    "# Perform the differentiation of ln(Xi) with respect to mu\n",
    "dlnXi_dH = diff(ln_Xi, H)\n",
    "\n",
    "print(latex(dlnXi_dH.simplify()))\n"
   ]
  },
  {
   "cell_type": "code",
   "execution_count": 7,
   "metadata": {},
   "outputs": [
    {
     "name": "stdout",
     "output_type": "stream",
     "text": [
      "\\frac{2 N \\beta \\left(2 e^{\\beta \\mu} + \\cosh{\\left(H \\beta \\right)}\\right) e^{\\beta \\mu}}{\\left(2 e^{\\beta \\mu} \\cosh{\\left(H \\beta \\right)} + 1\\right)^{2}}\n"
     ]
    }
   ],
   "source": [
    "from sympy import *\n",
    "# Define the symbols for \\langle M \\rangle = \\frac{2N e^{\\beta \\mu} \\sinh{\\left(H \\beta \\right)}}{2 e^{\\beta \\mu} \\cosh{\\left(H \\beta \\right)} + 1}\n",
    "N, beta, mu, H = symbols('N beta mu H')\n",
    "M = 2*N*exp(beta*mu)*sinh(H*beta) / (2*exp(beta*mu)*cosh(H*beta) + 1)\n",
    "# take the deviate with respect to H\n",
    "dM_dH = diff(M, H)\n",
    "print(latex(dM_dH.simplify()))"
   ]
  },
  {
   "cell_type": "code",
   "execution_count": 1,
   "metadata": {},
   "outputs": [
    {
     "name": "stdout",
     "output_type": "stream",
     "text": [
      "Solutions for Np:\n",
      "(2*N*exp(2) - sqrt((4*N*exp(2) + exp(beta*epsilon))*exp(beta*epsilon)) + exp(beta*epsilon))*exp(-2)/4\n",
      "(2*N*exp(2) + sqrt((4*N*exp(2) + exp(beta*epsilon))*exp(beta*epsilon)) + exp(beta*epsilon))*exp(-2)/4\n"
     ]
    }
   ],
   "source": [
    "from sympy import symbols, log, solve, exp, sqrt, simplify\n",
    "\n",
    "# Define the symbols\n",
    "N, Np, beta, epsilon = symbols('N Np beta epsilon')\n",
    "\n",
    "# Using Stirling's approximation for ln(t_{N_p})\n",
    "ln_t_Np = N * log(N) - N - (N - 2*Np) * log(N - 2*Np) - (N - 2*Np) - Np * log(Np) - Np - Np * log(2) - beta * epsilon * Np\n",
    "\n",
    "# Take the first derivative with respect to Np\n",
    "d_ln_t_Np_dNp = ln_t_Np.diff(Np)\n",
    "\n",
    "# Solve the equation for Np by setting the derivative to zero\n",
    "solution_for_Np = solve(d_ln_t_Np_dNp, Np)\n",
    "\n",
    "# Simplify the solution\n",
    "simplified_solution_for_Np = [simplify(sol) for sol in solution_for_Np]\n",
    "\n",
    "# Display the solutions\n",
    "print(\"Solutions for Np:\")\n",
    "for sol in simplified_solution_for_Np:\n",
    "    print(sol)\n",
    "\n",
    "# Note: Depending on the complexity of the equation, simplification might take time or result in complex expressions.\n"
   ]
  }
 ],
 "metadata": {
  "kernelspec": {
   "display_name": "base",
   "language": "python",
   "name": "python3"
  },
  "language_info": {
   "codemirror_mode": {
    "name": "ipython",
    "version": 3
   },
   "file_extension": ".py",
   "mimetype": "text/x-python",
   "name": "python",
   "nbconvert_exporter": "python",
   "pygments_lexer": "ipython3",
   "version": "3.11.3"
  }
 },
 "nbformat": 4,
 "nbformat_minor": 2
}
