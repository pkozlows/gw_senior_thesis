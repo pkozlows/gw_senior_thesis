{
 "cells": [
  {
   "cell_type": "code",
   "execution_count": 1,
   "metadata": {},
   "outputs": [
    {
     "data": {
      "text/plain": [
       "7.498942093324559"
      ]
     },
     "execution_count": 1,
     "metadata": {},
     "output_type": "execute_result"
    }
   ],
   "source": [
    "# Constants for calculations\n",
    "Ka = 10**(-9.25)\n",
    "Kw = 10**(-14)\n",
    "C0_NH4Cl = 0.1  # Molarity of NH4Cl, thus [NH4+]\n",
    "\n",
    "# Calculate Kb for NH3\n",
    "Kb = Kw / Ka\n",
    "\n",
    "# Calculate [OH-] using the approximation for weak bases\n",
    "OH_minus = (Kb * C0_NH4Cl)**0.5\n",
    "H_plus = Kw / OH_minus\n",
    "\n",
    "# Calculate [NH3] using the relation with OH- and NH4+\n",
    "NH3 = (OH_minus * C0_NH4Cl) / Kb\n",
    "\n",
    "NH3\n"
   ]
  },
  {
   "cell_type": "code",
   "execution_count": 1,
   "metadata": {},
   "outputs": [
    {
     "data": {
      "text/plain": [
       "(-0.029381547644896165, 8.834538691122404)"
      ]
     },
     "execution_count": 1,
     "metadata": {},
     "output_type": "execute_result"
    }
   ],
   "source": [
    "import numpy as np\n",
    "\n",
    "# Constants\n",
    "R = 8.314  # J/(mol·K)\n",
    "Delta_H = 50000  # J/mol\n",
    "T = 298.15  # K\n",
    "pKa_25 = 8.10\n",
    "\n",
    "# Calculate the partial derivative of pKa with respect to temperature\n",
    "partial_pKa_partial_T = -1 / np.log(10) * (Delta_H / (R * T**2))\n",
    "\n",
    "# Calculate the pKa at 0 degrees Celsius (273.15 K)\n",
    "Delta_T = 273.15 - 298.15\n",
    "pKa_0 = pKa_25 + partial_pKa_partial_T * Delta_T\n",
    "\n",
    "partial_pKa_partial_T, pKa_0\n"
   ]
  },
  {
   "cell_type": "code",
   "execution_count": 2,
   "metadata": {},
   "outputs": [
    {
     "name": "stderr",
     "output_type": "stream",
     "text": [
      "/Users/patrykkozlowski/anaconda3/lib/python3.11/site-packages/scipy/optimize/_minpack_py.py:178: RuntimeWarning: The iteration is not making good progress, as measured by the \n",
      "  improvement from the last ten iterations.\n",
      "  warnings.warn(msg, RuntimeWarning)\n"
     ]
    },
    {
     "data": {
      "text/plain": [
       "7.994451823527986"
      ]
     },
     "execution_count": 2,
     "metadata": {},
     "output_type": "execute_result"
    }
   ],
   "source": [
    "import numpy as np\n",
    "from scipy.optimize import fsolve\n",
    "\n",
    "# Constants\n",
    "Kw = 10**-14  # Water ionization constant\n",
    "Ka_acetic = 10**-4.75  # Acetic acid dissociation constant\n",
    "Ka_ammonium = 10**-9.25  # Ammonium hydrolysis constant\n",
    "\n",
    "# Initial concentrations\n",
    "V_total = 1.0  # Total volume in liters\n",
    "C_NH4OH = 0.15 * 1.0 / V_total  # Concentration of NH4+ from NH4OH\n",
    "C_NH4Cl = 0.10 * 0.5 / V_total  # Concentration of NH4+ from NH4Cl\n",
    "C_CH3COOH = 0.10 * 1.0 / V_total  # Initial concentration of CH3COOH\n",
    "\n",
    "# Total NH4+ concentration\n",
    "C_NH4_plus_total = C_NH4OH + C_NH4Cl\n",
    "\n",
    "def equations(p):\n",
    "    [H_plus, NH4_plus, NH3, OH_minus, CH3COOH, CH3COO_minus] = p\n",
    "    eq1 = H_plus + Ka_acetic * CH3COOH / CH3COO_minus - OH_minus - Ka_ammonium * NH3 / NH4_plus\n",
    "    eq2 = NH4_plus + NH3 - C_NH4_plus_total\n",
    "    eq3 = CH3COOH + CH3COO_minus - C_CH3COOH\n",
    "    eq4 = H_plus * OH_minus - Kw\n",
    "    eq5 = NH4_plus - NH3 - H_plus * NH3 / Ka_ammonium\n",
    "    eq6 = CH3COO_minus - H_plus * CH3COOH / Ka_acetic\n",
    "    return [eq1, eq2, eq3, eq4, eq5, eq6]\n",
    "\n",
    "# Initial guesses for [H+], [NH4+], [NH3], [OH-], [CH3COOH], [CH3COO-]\n",
    "initial_guesses = [1e-7, C_NH4_plus_total, 0.01, 1e-7, C_CH3COOH, 0.01]\n",
    "solution = fsolve(equations, initial_guesses)\n",
    "pH = -np.log10(solution[0])\n",
    "\n",
    "pH\n"
   ]
  },
  {
   "cell_type": "code",
   "execution_count": 1,
   "metadata": {},
   "outputs": [
    {
     "data": {
      "text/plain": [
       "8.772919956641298"
      ]
     },
     "execution_count": 1,
     "metadata": {},
     "output_type": "execute_result"
    }
   ],
   "source": [
    "import numpy as np\n",
    "from scipy.optimize import fsolve\n",
    "\n",
    "# Constants\n",
    "Kw = 10**-14  # Water ionization constant\n",
    "Ka_acetic = 10**-4.75  # Acetic acid dissociation constant\n",
    "Ka_ammonium = 10**-9.25  # Ammonium hydrolysis constant\n",
    "\n",
    "# Initial concentrations (after dilution to 1 liter)\n",
    "C_NH4OH = 0.15 * 1.0 / 1.0  # M of NH4+ from NH4OH\n",
    "C_NH4Cl = 0.10 * 0.5 / 1.0  # M of NH4+ from NH4Cl\n",
    "C_CH3COOH = 0.10 * 1.0 / 1.0  # M of CH3COOH\n",
    "C_Cl_minus = 0.10 * 0.5 / 1.0  # M of Cl- from NH4Cl\n",
    "\n",
    "# Total NH4+ concentration\n",
    "C_NH4_plus_total = C_NH4OH + C_NH4Cl\n",
    "\n",
    "def equations(p):\n",
    "    [H_plus, NH4_plus, NH3, OH_minus, CH3COOH, CH3COO_minus] = p\n",
    "    eq1 = H_plus + NH4_plus - OH_minus - CH3COO_minus - C_Cl_minus  # Charge balance\n",
    "    eq2 = NH4_plus + NH3 - C_NH4_plus_total  # Total NH4 balance\n",
    "    eq3 = CH3COOH + CH3COO_minus - C_CH3COOH  # Total acetic acid balance\n",
    "    eq4 = H_plus * OH_minus - Kw  # Water ionization\n",
    "    eq5 = NH3 * H_plus - NH4_plus * Ka_ammonium  # Ammonium hydrolysis\n",
    "    eq6 = CH3COO_minus * H_plus - CH3COOH * Ka_acetic  # Acetic acid dissociation\n",
    "    return [eq1, eq2, eq3, eq4, eq5, eq6]\n",
    "\n",
    "# Initial guesses for [H+], [NH4+], [NH3], [OH-], [CH3COOH], [CH3COO-]\n",
    "initial_guesses = [1e-7, C_NH4_plus_total, 0.01, 1e-7, C_CH3COOH, 0.01]\n",
    "solution = fsolve(equations, initial_guesses)\n",
    "pH = -np.log10(solution[0])\n",
    "\n",
    "pH"
   ]
  },
  {
   "cell_type": "code",
   "execution_count": 1,
   "metadata": {},
   "outputs": [
    {
     "data": {
      "text/plain": [
       "3.3999999999999986"
      ]
     },
     "execution_count": 1,
     "metadata": {},
     "output_type": "execute_result"
    }
   ],
   "source": [
    "import math\n",
    "# Constants\n",
    "pH = 11.80\n",
    "C0_amine = 0.10  # Molarity of the amine\n",
    "Kw = 10**-14\n",
    "\n",
    "# Calculate [H+]\n",
    "H_plus = 10**(-pH)\n",
    "\n",
    "# Calculate [OH-]\n",
    "OH_minus = Kw / H_plus\n",
    "\n",
    "# Assuming [OH-] equals the amount of amine that reacted and [R-NH2] is approximately equal to the initial concentration\n",
    "Kb = (OH_minus**2) / C0_amine\n",
    "\n",
    "# Calculate pKb\n",
    "pKb = -math.log10(Kb)\n",
    "\n",
    "pKb\n"
   ]
  }
 ],
 "metadata": {
  "kernelspec": {
   "display_name": "base",
   "language": "python",
   "name": "python3"
  },
  "language_info": {
   "codemirror_mode": {
    "name": "ipython",
    "version": 3
   },
   "file_extension": ".py",
   "mimetype": "text/x-python",
   "name": "python",
   "nbconvert_exporter": "python",
   "pygments_lexer": "ipython3",
   "version": "3.11.3"
  }
 },
 "nbformat": 4,
 "nbformat_minor": 2
}
