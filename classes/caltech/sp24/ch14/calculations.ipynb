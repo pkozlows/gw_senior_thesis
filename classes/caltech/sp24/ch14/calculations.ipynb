{
 "cells": [
  {
   "cell_type": "code",
   "execution_count": 1,
   "metadata": {},
   "outputs": [
    {
     "name": "stdout",
     "output_type": "stream",
     "text": [
      "Fraction of H2A+ (glycine with 2 protons): 0.0000\n",
      "Fraction of HA (glycine with 1 proton): 0.5000\n",
      "Fraction of A- (glycine with 0 protons): 0.5000\n"
     ]
    }
   ],
   "source": [
    "import math\n",
    "\n",
    "# Constants\n",
    "pK1 = 2.35\n",
    "pK2 = 9.78\n",
    "\n",
    "# Equilibrium constants\n",
    "K1 = 10**(-pK1)\n",
    "K2 = 10**(-pK2)\n",
    "\n",
    "# Proton concentration at pH = pK2\n",
    "H_plus = 10**(-pK2)\n",
    "\n",
    "# Fractions of each form of glycine\n",
    "f_H2A_plus = H_plus**2 / (H_plus**2 + K1 * H_plus + K1 * K2)\n",
    "f_HA = K1 * H_plus / (H_plus**2 + K1 * H_plus + K1 * K2)\n",
    "f_A_minus = K1 * K2 / (H_plus**2 + K1 * H_plus + K1 * K2)\n",
    "\n",
    "print(f\"Fraction of H2A+ (glycine with 2 protons): {f_H2A_plus:.4f}\")\n",
    "print(f\"Fraction of HA (glycine with 1 proton): {f_HA:.4f}\")\n",
    "print(f\"Fraction of A- (glycine with 0 protons): {f_A_minus:.4f}\")\n"
   ]
  },
  {
   "cell_type": "code",
   "execution_count": 3,
   "metadata": {},
   "outputs": [
    {
     "data": {
      "text/plain": [
       "(0.06793124598215083, 0.30263546018931203, 5.751149766895319)"
      ]
     },
     "execution_count": 3,
     "metadata": {},
     "output_type": "execute_result"
    }
   ],
   "source": [
    "\n",
    "import math\n",
    "# Constants and values from the problem statement\n",
    "pKa = 6.40\n",
    "concentration_Hcitrate = 0.01  # M\n",
    "concentration_citrate = 0.01  # M\n",
    "ionic_strength = 0.065  # calculated in the problem statement\n",
    "\n",
    "# Constants for Debye-Huckel equation\n",
    "A = 0.509\n",
    "z_citrate = 3\n",
    "z_Hcitrate = 2\n",
    "\n",
    "# Calculating activity coefficients using Debye-Huckel limiting law\n",
    "gamma_citrate = 10 ** (-A * z_citrate**2 * math.sqrt(ionic_strength))\n",
    "gamma_Hcitrate = 10 ** (-A * z_Hcitrate**2 * math.sqrt(ionic_strength))\n",
    "\n",
    "# Calculating effective concentrations\n",
    "effective_concentration_citrate = concentration_citrate * gamma_citrate\n",
    "effective_concentration_Hcitrate = concentration_Hcitrate * gamma_Hcitrate\n",
    "\n",
    "# Calculating the actual pH using the Henderson-Hasselbalch equation\n",
    "actual_pH = pKa + math.log10(effective_concentration_citrate / effective_concentration_Hcitrate)\n",
    "\n",
    "gamma_citrate, gamma_Hcitrate, actual_pH\n"
   ]
  },
  {
   "cell_type": "code",
   "execution_count": 4,
   "metadata": {},
   "outputs": [
    {
     "data": {
      "text/plain": [
       "0.32298845471710375"
      ]
     },
     "execution_count": 4,
     "metadata": {},
     "output_type": "execute_result"
    }
   ],
   "source": [
    "import math\n",
    "\n",
    "# Constants\n",
    "R = 8.314  # J/(mol*K), gas constant\n",
    "T = 298  # K, temperature\n",
    "\n",
    "# Given free energies of formation (in kJ/mol, convert to J/mol)\n",
    "delta_G_f_N2O4 = 99.8 * 1000  # J/mol\n",
    "delta_G_f_NO2 = 51.3 * 1000   # J/mol\n",
    "\n",
    "# Calculate delta G for the reaction\n",
    "delta_G_reaction = 2 * delta_G_f_NO2 - delta_G_f_N2O4  # J/mol\n",
    "\n",
    "# Calculate the equilibrium constant Kp using the formula: Delta G = -RT ln Kp\n",
    "Kp = math.exp(-delta_G_reaction / (R * T))\n",
    "\n",
    "Kp\n"
   ]
  },
  {
   "cell_type": "code",
   "execution_count": 5,
   "metadata": {},
   "outputs": [
    {
     "data": {
      "text/plain": [
       "(0.753355591901872, 0.493288816196257)"
      ]
     },
     "execution_count": 5,
     "metadata": {},
     "output_type": "execute_result"
    }
   ],
   "source": [
    "import sympy as sp\n",
    "\n",
    "# Define the unknowns\n",
    "x = sp.symbols('x')\n",
    "\n",
    "# Given equilibrium constant K_p\n",
    "K_p = 0.323\n",
    "\n",
    "# Total pressure\n",
    "total_pressure = 1  # atm\n",
    "\n",
    "# Define the equilibrium relationships\n",
    "P_N2O4 = x\n",
    "P_NO2 = 2 * (total_pressure - x)\n",
    "\n",
    "# Set up the equation based on K_p\n",
    "equilibrium_equation = sp.Eq(K_p, (P_NO2 ** 2) / P_N2O4)\n",
    "\n",
    "# Solve for x (the partial pressure of N2O4)\n",
    "solution = sp.solve(equilibrium_equation, x)\n",
    "\n",
    "# Get the partial pressures of N2O4 and NO2 at equilibrium\n",
    "P_N2O4_eq = solution[0]\n",
    "P_NO2_eq = 2 * (total_pressure - P_N2O4_eq)\n",
    "\n",
    "# Display the results\n",
    "P_N2O4_eq, P_NO2_eq\n"
   ]
  },
  {
   "cell_type": "code",
   "execution_count": 2,
   "metadata": {},
   "outputs": [
    {
     "data": {
      "text/plain": [
       "0.09001430996829023"
      ]
     },
     "execution_count": 2,
     "metadata": {},
     "output_type": "execute_result"
    }
   ],
   "source": [
    "import sympy as sp\n",
    "import numpy as np\n",
    "\n",
    "# defined the symbols\n",
    "h_plus, co3_2_minus, hco3_minus, h2co3, co2 = sp.symbols('h_plus co3_2_minus hco3_minus h2co3 co2')\n",
    "\n",
    "# Given equilibrium constants\n",
    "pH = 7.5\n",
    "# use this to compute the futon concentration\n",
    "h_plus = 10**-pH\n",
    "ksp = 4.5e-9\n",
    "co3_2_minus = np.sqrt(ksp)\n",
    "# now we have all of the ingredients to compute hco3_minus\n",
    "ka1 = 4.25e-7\n",
    "hco3_minus = (h_plus * co3_2_minus) / ka1\n",
    "# now we can compute h2co3\n",
    "ka2 = 5.01e-11\n",
    "h2co3 = (h_plus * hco3_minus) / ka2\n",
    "# this will be equal to the concentration of carbon dioxide\n",
    "co2 = h2co3\n",
    "# now come we want to solve for the partial pressure of carbon dioxide using henry's law\n",
    "kh = 0.035\n",
    "p_co2 = co2 / kh\n",
    "p_co2"
   ]
  },
  {
   "cell_type": "code",
   "execution_count": 1,
   "metadata": {},
   "outputs": [
    {
     "data": {
      "text/plain": [
       "([0.0500000000000000], 0.0500000000000000)"
      ]
     },
     "execution_count": 1,
     "metadata": {},
     "output_type": "execute_result"
    }
   ],
   "source": [
    "from sympy import symbols, Eq, solve\n",
    "\n",
    "# Define the variable\n",
    "x = symbols('x')\n",
    "\n",
    "# Given constants\n",
    "total_concentration = 0.1  # Total concentration of HAc + Ac-\n",
    "pH = 4.76\n",
    "Ka = 10**(-pH)  # Ka equals [H+] at pH 4.76\n",
    "\n",
    "# Set up the equation from the given relationship\n",
    "equation = Eq(Ka * x / (total_concentration - x), Ka)\n",
    "\n",
    "# Solve the equation\n",
    "concentration_HAc = solve(equation, x)\n",
    "concentration_Ac_minus = total_concentration - concentration_HAc[0]\n",
    "\n",
    "concentration_HAc, concentration_Ac_minus\n"
   ]
  }
 ],
 "metadata": {
  "kernelspec": {
   "display_name": "pyscf_env",
   "language": "python",
   "name": "python3"
  },
  "language_info": {
   "codemirror_mode": {
    "name": "ipython",
    "version": 3
   },
   "file_extension": ".py",
   "mimetype": "text/x-python",
   "name": "python",
   "nbconvert_exporter": "python",
   "pygments_lexer": "ipython3",
   "version": "3.8.17"
  }
 },
 "nbformat": 4,
 "nbformat_minor": 2
}
