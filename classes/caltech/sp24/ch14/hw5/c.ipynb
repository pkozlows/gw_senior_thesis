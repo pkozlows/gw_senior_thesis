{
 "cells": [
  {
   "cell_type": "code",
   "execution_count": 1,
   "metadata": {},
   "outputs": [
    {
     "data": {
      "text/plain": [
       "(0.655, -505581.4, 4.2028550371353935e+88, 1.310814228639819)"
      ]
     },
     "execution_count": 1,
     "metadata": {},
     "output_type": "execute_result"
    }
   ],
   "source": [
    "import math\n",
    "\n",
    "# Constants\n",
    "n = 8  # number of electrons transferred\n",
    "F = 96485  # Faraday's constant in C/mol\n",
    "R = 8.314  # gas constant in J/(mol K)\n",
    "T = 298  # temperature in Kelvin\n",
    "\n",
    "# Given standard reduction potentials for each step\n",
    "E0_values = [-0.199, 0.034, 0.232, 0.588]\n",
    "\n",
    "# Calculate the overall standard reduction potential E0\n",
    "E0 = sum(E0_values)\n",
    "\n",
    "# Calculate the standard Gibbs free energy change ΔG0\n",
    "delta_G0 = -n * F * E0\n",
    "\n",
    "# Calculate the equilibrium constant Keq from ΔG0\n",
    "Keq = math.exp(-delta_G0 / (R * T))\n",
    "\n",
    "# Calculate E0_prime using the Nernst equation\n",
    "log_term = math.log10(1 / Keq)\n",
    "E0_prime = E0 - (0.0592 / n) * log_term\n",
    "\n",
    "E0, delta_G0, Keq, E0_prime\n"
   ]
  },
  {
   "cell_type": "code",
   "execution_count": 2,
   "metadata": {},
   "outputs": [
    {
     "data": {
      "text/plain": [
       "(-505581.4, -825051.3398250889)"
      ]
     },
     "execution_count": 2,
     "metadata": {},
     "output_type": "execute_result"
    }
   ],
   "source": [
    "import math\n",
    "\n",
    "# Constants and previous values\n",
    "E0 = 0.655  # V, standard reduction potential\n",
    "T = 298  # K, temperature\n",
    "R = 8.314  # J/(mol K), gas constant\n",
    "n = 8  # number of electrons transferred\n",
    "\n",
    "# Calculate ΔG° at pH=0 (standard conditions)\n",
    "delta_G0_pH0 = -n * F * E0\n",
    "\n",
    "# Calculate ΔG° at pH=7\n",
    "# Adjusting for the proton concentration at pH=7\n",
    "pH = 7\n",
    "H_concentration = 10**(-pH)\n",
    "delta_G0_pH7 = delta_G0_pH0 + R * T * math.log(H_concentration**n)\n",
    "\n",
    "delta_G0_pH0, delta_G0_pH7\n"
   ]
  },
  {
   "cell_type": "code",
   "execution_count": 2,
   "metadata": {},
   "outputs": [
    {
     "data": {
      "text/plain": [
       "(-175.6027,\n",
       " -27.980649999999997,\n",
       " -87.7924279094685,\n",
       " -235.414477909469,\n",
       " 1.84453975999098e+41)"
      ]
     },
     "execution_count": 2,
     "metadata": {},
     "output_type": "execute_result"
    }
   ],
   "source": [
    "import sympy as sp\n",
    "\n",
    "# Constants\n",
    "F = 96485  # Faraday's constant in C/mol\n",
    "R = 8.314  # Gas constant in J/(mol*K)\n",
    "T = 298  # Temperature in K\n",
    "K_red = 2.45e15  # Association constant for reduced form\n",
    "\n",
    "# Reduction potentials in V\n",
    "E1 = 1.820\n",
    "E2 = 0.290\n",
    "\n",
    "# Calculate free energy changes\n",
    "delta_G1 = -1 * F * E1  # Free energy change for the first half-cell reaction\n",
    "delta_G2 = -1 * F * E2  # Free energy change for the second half-cell reaction with sign flipped\n",
    "delta_G_red = -R * T * sp.log(K_red)  # Free energy change for the reduced association\n",
    "\n",
    "# Calculate delta G_ox such that the total free energy change sums to zero\n",
    "delta_G_ox = delta_G1 + delta_G_red - delta_G2\n",
    "\n",
    "# Calculate the association constant K_ox\n",
    "K_ox_corrected = sp.exp(-delta_G_ox / (R * T))\n",
    "\n",
    "# Convert values to kJ/mol\n",
    "delta_G1_kj = delta_G1 / 1000\n",
    "delta_G2_corrected_kj = delta_G2 / 1000\n",
    "delta_G_red_kj = delta_G_red / 1000\n",
    "delta_G_ox_corrected_kj = delta_G_ox / 1000\n",
    "\n",
    "# Display the results\n",
    "delta_G1_kj, delta_G2_corrected_kj, delta_G_red_kj, delta_G_ox_corrected_kj, K_ox_corrected.evalf()\n"
   ]
  },
  {
   "cell_type": "code",
   "execution_count": 1,
   "metadata": {},
   "outputs": [
    {
     "data": {
      "text/plain": [
       "(5.91258587211980e-5, 911.498119653644)"
      ]
     },
     "execution_count": 1,
     "metadata": {},
     "output_type": "execute_result"
    }
   ],
   "source": [
    "import sympy as sp\n",
    "\n",
    "# Constants\n",
    "F = 96485  # Faraday's constant in C/mol\n",
    "R = 8.314  # Gas constant in J/(mol*K)\n",
    "T = 298  # Temperature in K\n",
    "\n",
    "# Reduction potentials for FLD and FMN\n",
    "E1_FLD = -0.2 # Volts\n",
    "E2_FLD = -0.45 # Volts\n",
    "\n",
    "E1_FMN = -0.3 # Volts\n",
    "E2_FMN = -0.125 # Volts\n",
    "\n",
    "# Calculate E_dp for FLD\n",
    "E_dp_FLD = E2_FLD - E1_FLD\n",
    "\n",
    "# Calculate free energy change for FLD disproportionation reaction\n",
    "delta_G_dp_FLD = -1 * F * E_dp_FLD\n",
    "\n",
    "# Calculate K_dp for FLD\n",
    "K_dp_FLD = sp.exp(-delta_G_dp_FLD / (R * T))\n",
    "\n",
    "# Calculate E_dp for FMN\n",
    "E_dp_FMN = E2_FMN - E1_FMN\n",
    "\n",
    "# Calculate free energy change for FMN disproportionation reaction\n",
    "delta_G_dp_FMN = -1 * F * E_dp_FMN\n",
    "\n",
    "# Calculate K_dp for FMN\n",
    "K_dp_FMN = sp.exp(-delta_G_dp_FMN / (R * T))\n",
    "\n",
    "# Display the results\n",
    "K_dp_FLD.evalf(), K_dp_FMN.evalf()\n"
   ]
  },
  {
   "cell_type": "code",
   "execution_count": 4,
   "metadata": {},
   "outputs": [
    {
     "name": "stdout",
     "output_type": "stream",
     "text": [
      "Case FLD:\n",
      "[sq]_eq = 0.984857515441624\n",
      "[ox]_eq = 0.00757124227918783\n",
      "[hq]_eq = 0.00757124227918783\n",
      "Case FMN:\n",
      "[sq]_eq = 0.0162957872882642\n",
      "[ox]_eq = 0.491852106355868\n",
      "[hq]_eq = 0.491852106355868\n"
     ]
    }
   ],
   "source": [
    "import sympy as sp\n",
    "\n",
    "# Constants from the previous calculations\n",
    "K_dp_FLD = 5.91e-5\n",
    "K_dp_FMN = 9.11e2\n",
    "K_dp = {'FLD': K_dp_FLD, 'FMN': K_dp_FMN}\n",
    "\n",
    "# Define the variable for change in concentration\n",
    "x = sp.symbols('x')\n",
    "\n",
    "# Initial concentration of sq\n",
    "sq_initial = 1  # 1 M\n",
    "\n",
    "# Equilibrium concentrations\n",
    "sq_eq = sq_initial - 2*x\n",
    "ox_eq = x\n",
    "hq_eq = x\n",
    "\n",
    "# Loop over the two cases to determine the equilibrium concentrations of the three species in each case\n",
    "for case in ['FLD', 'FMN']:\n",
    "    # Calculate the equilibrium constant for the disproportionation reaction\n",
    "    K = K_dp[case]\n",
    "\n",
    "    # Define the expression for the equilibrium constant\n",
    "    eq = K - (hq_eq * ox_eq / sq_eq**2)\n",
    "\n",
    "    # Solve the equation for x\n",
    "    x_values = sp.solve(eq, x)\n",
    "\n",
    "    # Filter for realistic solutions (0 <= x <= 0.5)\n",
    "    real_solutions = [sol for sol in x_values if sol.is_real and 0 <= sol <= 0.5]\n",
    "    \n",
    "    if real_solutions:\n",
    "        x_value = real_solutions[0]\n",
    "        \n",
    "        # Calculate the equilibrium concentrations\n",
    "        sq_eq_value = sq_eq.subs(x, x_value)\n",
    "        ox_eq_value = ox_eq.subs(x, x_value)\n",
    "        hq_eq_value = hq_eq.subs(x, x_value)\n",
    "\n",
    "        # Display the results\n",
    "        print(f\"Case {case}:\")\n",
    "        print(f\"[sq]_eq = {sq_eq_value}\")\n",
    "        print(f\"[ox]_eq = {ox_eq_value}\")\n",
    "        print(f\"[hq]_eq = {hq_eq_value}\")\n",
    "    else:\n",
    "        print(f\"Case {case}: No realistic solution found\")\n"
   ]
  }
 ],
 "metadata": {
  "kernelspec": {
   "display_name": "pyscf_env",
   "language": "python",
   "name": "python3"
  },
  "language_info": {
   "codemirror_mode": {
    "name": "ipython",
    "version": 3
   },
   "file_extension": ".py",
   "mimetype": "text/x-python",
   "name": "python",
   "nbconvert_exporter": "python",
   "pygments_lexer": "ipython3",
   "version": "3.8.17"
  }
 },
 "nbformat": 4,
 "nbformat_minor": 2
}
