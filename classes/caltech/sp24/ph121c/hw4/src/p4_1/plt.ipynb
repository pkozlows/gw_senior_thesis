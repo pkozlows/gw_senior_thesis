{
 "cells": [
  {
   "cell_type": "code",
   "execution_count": 1,
   "metadata": {},
   "outputs": [
    {
     "name": "stdout",
     "output_type": "stream",
     "text": [
      "(1, 2, 1)\n",
      "(1, 2, 1)\n",
      "(1, 2, 1)\n",
      "(1, 2, 1)\n",
      "(1, 2, 1)\n",
      "(1, 2, 1)\n",
      "(1, 2, 1)\n",
      "Unexpected exception formatting exception. Falling back to standard exception\n"
     ]
    },
    {
     "name": "stderr",
     "output_type": "stream",
     "text": [
      "Traceback (most recent call last):\n",
      "  File \"/Users/patrykkozlowski/anaconda3/envs/pyscf_env/lib/python3.8/site-packages/IPython/core/interactiveshell.py\", line 3505, in run_code\n",
      "    exec(code_obj, self.user_global_ns, self.user_ns)\n",
      "  File \"/var/folders/q8/8t3lfc9d7t97bsq581_lr9780000gn/T/ipykernel_11900/3821553986.py\", line 31, in <module>\n",
      "    trotterized = apply_trotter_gates(mps_list, gate_field, gate_odd, gate_even)\n",
      "  File \"/Users/patrykkozlowski/caltech/classes/caltech/sp24/ph121c/hw4/src/fns.py\", line 98, in apply_trotter_gates\n",
      "  File \"/Users/patrykkozlowski/caltech/classes/caltech/sp24/ph121c/hw4/src/fns.py\", line 85, in apply_trotter_gate\n",
      "    mps[site] = np.einsum('ij,ajl->ail', gate, mps[site])\n",
      "  File \"<__array_function__ internals>\", line 200, in einsum\n",
      "  File \"/Users/patrykkozlowski/anaconda3/envs/pyscf_env/lib/python3.8/site-packages/numpy/core/einsumfunc.py\", line 1371, in einsum\n",
      "    return c_einsum(*operands, **kwargs)\n",
      "ValueError: operands could not be broadcast together with remapped shapes [original->remapped]: (4,4)->(4,newaxis,4) (1,2,1)->(1,newaxis,1,2) \n",
      "\n",
      "During handling of the above exception, another exception occurred:\n",
      "\n",
      "Traceback (most recent call last):\n",
      "  File \"/Users/patrykkozlowski/anaconda3/envs/pyscf_env/lib/python3.8/site-packages/IPython/core/interactiveshell.py\", line 2102, in showtraceback\n",
      "    stb = self.InteractiveTB.structured_traceback(\n",
      "  File \"/Users/patrykkozlowski/anaconda3/envs/pyscf_env/lib/python3.8/site-packages/IPython/core/ultratb.py\", line 1310, in structured_traceback\n",
      "    return FormattedTB.structured_traceback(\n",
      "  File \"/Users/patrykkozlowski/anaconda3/envs/pyscf_env/lib/python3.8/site-packages/IPython/core/ultratb.py\", line 1199, in structured_traceback\n",
      "    return VerboseTB.structured_traceback(\n",
      "  File \"/Users/patrykkozlowski/anaconda3/envs/pyscf_env/lib/python3.8/site-packages/IPython/core/ultratb.py\", line 1052, in structured_traceback\n",
      "    formatted_exception = self.format_exception_as_a_whole(etype, evalue, etb, number_of_lines_of_context,\n",
      "  File \"/Users/patrykkozlowski/anaconda3/envs/pyscf_env/lib/python3.8/site-packages/IPython/core/ultratb.py\", line 978, in format_exception_as_a_whole\n",
      "    frames.append(self.format_record(record))\n",
      "  File \"/Users/patrykkozlowski/anaconda3/envs/pyscf_env/lib/python3.8/site-packages/IPython/core/ultratb.py\", line 878, in format_record\n",
      "    frame_info.lines, Colors, self.has_colors, lvals\n",
      "  File \"/Users/patrykkozlowski/anaconda3/envs/pyscf_env/lib/python3.8/site-packages/IPython/core/ultratb.py\", line 712, in lines\n",
      "    return self._sd.lines\n",
      "  File \"/Users/patrykkozlowski/anaconda3/envs/pyscf_env/lib/python3.8/site-packages/stack_data/utils.py\", line 144, in cached_property_wrapper\n",
      "    value = obj.__dict__[self.func.__name__] = self.func(obj)\n",
      "  File \"/Users/patrykkozlowski/anaconda3/envs/pyscf_env/lib/python3.8/site-packages/stack_data/core.py\", line 734, in lines\n",
      "    pieces = self.included_pieces\n",
      "  File \"/Users/patrykkozlowski/anaconda3/envs/pyscf_env/lib/python3.8/site-packages/stack_data/utils.py\", line 144, in cached_property_wrapper\n",
      "    value = obj.__dict__[self.func.__name__] = self.func(obj)\n",
      "  File \"/Users/patrykkozlowski/anaconda3/envs/pyscf_env/lib/python3.8/site-packages/stack_data/core.py\", line 681, in included_pieces\n",
      "    pos = scope_pieces.index(self.executing_piece)\n",
      "  File \"/Users/patrykkozlowski/anaconda3/envs/pyscf_env/lib/python3.8/site-packages/stack_data/utils.py\", line 144, in cached_property_wrapper\n",
      "    value = obj.__dict__[self.func.__name__] = self.func(obj)\n",
      "  File \"/Users/patrykkozlowski/anaconda3/envs/pyscf_env/lib/python3.8/site-packages/stack_data/core.py\", line 660, in executing_piece\n",
      "    return only(\n",
      "  File \"/Users/patrykkozlowski/anaconda3/envs/pyscf_env/lib/python3.8/site-packages/executing/executing.py\", line 116, in only\n",
      "    raise NotOneValueFound('Expected one value, found 0')\n",
      "executing.executing.NotOneValueFound: Expected one value, found 0\n"
     ]
    }
   ],
   "source": [
    "import numpy as np\n",
    "import matplotlib.pyplot as plt\n",
    "\n",
    "from hw2.src.p5_5_1_2 import compute_mps, compute_contraction\n",
    "from hw4.src.fns import open_dense_hamiltonian, create_trotter_gates, apply_trotter_gates\n",
    "\n",
    "# Define the parameters\n",
    "L = [6, 8]\n",
    "times = [0.1]\n",
    "# Define the sample ferromagnet product state for a single site\n",
    "up_physical = [1, 0]\n",
    "down_physical = [0, 1]\n",
    "\n",
    "\n",
    "for l in L:\n",
    "    # Open the dense Hamiltonian for the current system size\n",
    "    H = open_dense_hamiltonian(l)\n",
    "    eigenvalues, eigenvectors = np.linalg.eigh(H)\n",
    "    \n",
    "    # Compute the ground state energy\n",
    "    gs_energy = eigenvalues[0]\n",
    "    \n",
    "    # Translate the full product state into MPS form\n",
    "    mps_list = []\n",
    "    for i in range(l):\n",
    "        up_physical=np.array(up_physical).reshape(1, 2, 1)\n",
    "        mps_list.append(up_physical)\n",
    "    \n",
    "    for t in times:\n",
    "        gate_field, gate_odd, gate_even = create_trotter_gates(t)\n",
    "        # Apply the gates to the MPS\n",
    "        trotterized = apply_trotter_gates(mps_list, gate_field, gate_odd, gate_even)\n",
    "\n",
    "        # Compute the energy of the trotterized state\n",
    "        trotter_energy = compute_contraction(trotterized, mps_list)\n",
    "        print(f\"System size: {l}, Trotterized energy: {trotter_energy}, Ground state energy: {gs_energy}\")\n",
    "\n",
    "            "
   ]
  }
 ],
 "metadata": {
  "kernelspec": {
   "display_name": "pyscf_env",
   "language": "python",
   "name": "python3"
  },
  "language_info": {
   "codemirror_mode": {
    "name": "ipython",
    "version": 3
   },
   "file_extension": ".py",
   "mimetype": "text/x-python",
   "name": "python",
   "nbconvert_exporter": "python",
   "pygments_lexer": "ipython3",
   "version": "3.8.17"
  }
 },
 "nbformat": 4,
 "nbformat_minor": 2
}
