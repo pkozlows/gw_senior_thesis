{
 "cells": [
  {
   "cell_type": "code",
   "execution_count": 8,
   "metadata": {},
   "outputs": [
    {
     "name": "stdout",
     "output_type": "stream",
     "text": [
      "1.31204968079106 \\cdot 10^{-34}\n",
      "8.79146429773221 \\cdot 10^{-21}\n"
     ]
    }
   ],
   "source": [
    "from sympy import symbols, sqrt, pi, latex\n",
    "\n",
    "# Constants\n",
    "eV_to_J = 1.602e-19  # Conversion from eV to Joules\n",
    "Ry_to_eV = 13.6  # Conversion from Rydbergs to eV\n",
    "a_0 = 0.529e-10  # Bohr radius in meters\n",
    "m = 9.11e-31  # Electron mass in kg\n",
    "e = 1.6e-19  # Elementary charge in Coulombs\n",
    "c = 3e8  # Speed of light in m/s\n",
    "hbar = 1.054e-34  # Reduced Planck's constant in Js\n",
    "\n",
    "# Kinetic energy in Rydbergs\n",
    "KE_Ry = 10\n",
    "# Convert Ry to eV to J\n",
    "KE_J = KE_Ry * Ry_to_eV * eV_to_J\n",
    "\n",
    "# Calculate the momentum p_f using the relation E = p^2/2m (non-relativistic kinetic energy)\n",
    "# p_f = sqrt(2*m*E)\n",
    "p_f_value = sqrt(2 * m * KE_J)\n",
    "\n",
    "\n",
    "# Calculate the second expression\n",
    "omega = (KE_Ry * Ry_to_eV * eV_to_J) / hbar  # Angular frequency\n",
    "second_expression = (128 * a_0**3 * pi * e**2 * p_f_value**3) / (3 * m * hbar**3 * omega * c * (1 + p_f_value**2 * a_0**2 / hbar**2)**4)\n",
    "\n",
    "# Print the second result in LaTeX\n",
    "print(latex(second_expression.evalf()))\n",
    "\n",
    "# compute the atoms geometric cross section comma which is given by a_0^2\\pi\n",
    "pi = 3.14159265358979323846\n",
    "atoms_cross_section = a_0**2 * pi\n",
    "print(latex(atoms_cross_section))"
   ]
  },
  {
   "cell_type": "code",
   "execution_count": 2,
   "metadata": {},
   "outputs": [
    {
     "name": "stdout",
     "output_type": "stream",
     "text": [
      "\\left(- q^{2} \\psi_{L}{\\left(\\mathbf{{x}_{N}},\\mathbf{{y}_{N}},\\mathbf{{z}_{N}},t \\right)} \\left(\\frac{\\partial}{\\partial \\mathbf{{x}_{N}}} g_{L}{\\left(\\mathbf{{x}_{N}},\\mathbf{{y}_{N}},\\mathbf{{z}_{N}} \\right)}\\right)^{2} - q^{2} \\psi_{L}{\\left(\\mathbf{{x}_{N}},\\mathbf{{y}_{N}},\\mathbf{{z}_{N}},t \\right)} \\left(\\frac{\\partial}{\\partial \\mathbf{{y}_{N}}} g_{L}{\\left(\\mathbf{{x}_{N}},\\mathbf{{y}_{N}},\\mathbf{{z}_{N}} \\right)}\\right)^{2} - q^{2} \\psi_{L}{\\left(\\mathbf{{x}_{N}},\\mathbf{{y}_{N}},\\mathbf{{z}_{N}},t \\right)} \\left(\\frac{\\partial}{\\partial \\mathbf{{z}_{N}}} g_{L}{\\left(\\mathbf{{x}_{N}},\\mathbf{{y}_{N}},\\mathbf{{z}_{N}} \\right)}\\right)^{2} + i q \\left(\\frac{\\partial}{\\partial \\mathbf{{x}_{N}}} g_{L}{\\left(\\mathbf{{x}_{N}},\\mathbf{{y}_{N}},\\mathbf{{z}_{N}} \\right)} \\frac{\\partial}{\\partial \\mathbf{{x}_{N}}} \\psi_{L}{\\left(\\mathbf{{x}_{N}},\\mathbf{{y}_{N}},\\mathbf{{z}_{N}},t \\right)} + \\frac{\\partial}{\\partial \\mathbf{{y}_{N}}} g_{L}{\\left(\\mathbf{{x}_{N}},\\mathbf{{y}_{N}},\\mathbf{{z}_{N}} \\right)} \\frac{\\partial}{\\partial \\mathbf{{y}_{N}}} \\psi_{L}{\\left(\\mathbf{{x}_{N}},\\mathbf{{y}_{N}},\\mathbf{{z}_{N}},t \\right)} + \\frac{\\partial}{\\partial \\mathbf{{z}_{N}}} g_{L}{\\left(\\mathbf{{x}_{N}},\\mathbf{{y}_{N}},\\mathbf{{z}_{N}} \\right)} \\frac{\\partial}{\\partial \\mathbf{{z}_{N}}} \\psi_{L}{\\left(\\mathbf{{x}_{N}},\\mathbf{{y}_{N}},\\mathbf{{z}_{N}},t \\right)}\\right) \\psi_{L}{\\left(\\mathbf{{x}_{N}},\\mathbf{{y}_{N}},\\mathbf{{z}_{N}},t \\right)} + i q \\psi_{L}{\\left(\\mathbf{{x}_{N}},\\mathbf{{y}_{N}},\\mathbf{{z}_{N}},t \\right)} \\frac{\\partial^{2}}{\\partial \\mathbf{{x}_{N}}^{2}} g_{L}{\\left(\\mathbf{{x}_{N}},\\mathbf{{y}_{N}},\\mathbf{{z}_{N}} \\right)} + i q \\psi_{L}{\\left(\\mathbf{{x}_{N}},\\mathbf{{y}_{N}},\\mathbf{{z}_{N}},t \\right)} \\frac{\\partial^{2}}{\\partial \\mathbf{{y}_{N}}^{2}} g_{L}{\\left(\\mathbf{{x}_{N}},\\mathbf{{y}_{N}},\\mathbf{{z}_{N}} \\right)} + i q \\psi_{L}{\\left(\\mathbf{{x}_{N}},\\mathbf{{y}_{N}},\\mathbf{{z}_{N}},t \\right)} \\frac{\\partial^{2}}{\\partial \\mathbf{{z}_{N}}^{2}} g_{L}{\\left(\\mathbf{{x}_{N}},\\mathbf{{y}_{N}},\\mathbf{{z}_{N}} \\right)} + 2 i q \\frac{\\partial}{\\partial \\mathbf{{x}_{N}}} g_{L}{\\left(\\mathbf{{x}_{N}},\\mathbf{{y}_{N}},\\mathbf{{z}_{N}} \\right)} \\frac{\\partial}{\\partial \\mathbf{{x}_{N}}} \\psi_{L}{\\left(\\mathbf{{x}_{N}},\\mathbf{{y}_{N}},\\mathbf{{z}_{N}},t \\right)} + 2 i q \\frac{\\partial}{\\partial \\mathbf{{y}_{N}}} g_{L}{\\left(\\mathbf{{x}_{N}},\\mathbf{{y}_{N}},\\mathbf{{z}_{N}} \\right)} \\frac{\\partial}{\\partial \\mathbf{{y}_{N}}} \\psi_{L}{\\left(\\mathbf{{x}_{N}},\\mathbf{{y}_{N}},\\mathbf{{z}_{N}},t \\right)} + 2 i q \\frac{\\partial}{\\partial \\mathbf{{z}_{N}}} g_{L}{\\left(\\mathbf{{x}_{N}},\\mathbf{{y}_{N}},\\mathbf{{z}_{N}} \\right)} \\frac{\\partial}{\\partial \\mathbf{{z}_{N}}} \\psi_{L}{\\left(\\mathbf{{x}_{N}},\\mathbf{{y}_{N}},\\mathbf{{z}_{N}},t \\right)} + \\frac{\\partial^{2}}{\\partial \\mathbf{{x}_{N}}^{2}} \\psi_{L}{\\left(\\mathbf{{x}_{N}},\\mathbf{{y}_{N}},\\mathbf{{z}_{N}},t \\right)} + \\frac{\\partial^{2}}{\\partial \\mathbf{{y}_{N}}^{2}} \\psi_{L}{\\left(\\mathbf{{x}_{N}},\\mathbf{{y}_{N}},\\mathbf{{z}_{N}},t \\right)} + \\frac{\\partial^{2}}{\\partial \\mathbf{{z}_{N}}^{2}} \\psi_{L}{\\left(\\mathbf{{x}_{N}},\\mathbf{{y}_{N}},\\mathbf{{z}_{N}},t \\right)}\\right) e^{i q g_{L}{\\left(\\mathbf{{x}_{N}},\\mathbf{{y}_{N}},\\mathbf{{z}_{N}} \\right)}}\n"
     ]
    }
   ],
   "source": [
    "from sympy import symbols, exp, I, Function\n",
    "from sympy.vector import CoordSys3D, Del\n",
    "\n",
    "# Define the coordinate system\n",
    "N = CoordSys3D('N')\n",
    "\n",
    "# Define the gradient and Laplacian operator\n",
    "nabla = Del()\n",
    "\n",
    "# Time and spatial symbols\n",
    "t = symbols('t')\n",
    "x, y, z = N.base_scalars()\n",
    "q = symbols('q')\n",
    "\n",
    "# Define psi_L and g_L as functions of space (and time for psi_L)\n",
    "psi_L = Function('psi_L')(x, y, z, t)\n",
    "g_L = Function('g_L')(x, y, z)\n",
    "\n",
    "# Define the function Psi\n",
    "Psi = psi_L * exp(I*q*g_L)\n",
    "\n",
    "# Compute the Laplacian of Psi\n",
    "laplacian_Psi = nabla.dot(nabla(Psi)).doit()\n",
    "\n",
    "# Now, let's break down the right-hand side as described\n",
    "# First part: Laplacian of psi_L * exp(I * q * g_L)\n",
    "laplacian_psi_L_exp = nabla.dot(nabla(psi_L * exp(I * q * g_L))).doit()\n",
    "\n",
    "# Second part: Gradient of psi_L dotted with gradient of g_L, times I*q*psi_L*exp(I*q*g_L)\n",
    "grad_psi_L_dot_grad_g_L = (nabla(psi_L).doit().dot(nabla(g_L).doit())) * I * q * psi_L * exp(I * q * g_L)\n",
    "\n",
    "# Combine the parts\n",
    "rhs = laplacian_psi_L_exp + grad_psi_L_dot_grad_g_L\n",
    "\n",
    "# Simplify the expression\n",
    "rhs_simplified = rhs.simplify()\n",
    "\n",
    "# Print the result in LaTeX format\n",
    "print(latex(rhs_simplified))\n"
   ]
  },
  {
   "cell_type": "code",
   "execution_count": 3,
   "metadata": {},
   "outputs": [
    {
     "name": "stdout",
     "output_type": "stream",
     "text": [
      "\\frac{\\left(- 2 m q A{\\left(x,t \\right)} \\frac{\\partial}{\\partial x} \\chi{\\left(x,t \\right)} - 2 m q \\frac{\\partial}{\\partial t} \\chi{\\left(x,t \\right)} + q^{2} \\left(\\frac{\\partial}{\\partial x} \\chi{\\left(x,t \\right)}\\right)^{2} - 2 i q A{\\left(x,t \\right)} \\frac{\\partial}{\\partial x} \\chi{\\left(x,t \\right)} - i \\frac{\\partial^{2}}{\\partial x^{2}} \\chi{\\left(x,t \\right)}\\right) \\psi{\\left(x,t \\right)}}{2 m}\n"
     ]
    }
   ],
   "source": [
    "from sympy import symbols, Function, Derivative, I, exp, simplify, latex\n",
    "\n",
    "# Define symbols\n",
    "m, q, t = symbols('m q t', real=True)\n",
    "x = symbols('x')\n",
    "psi = Function('psi')(x, t)\n",
    "chi = Function('chi')(x, t)\n",
    "A = Function('A')(x, t)\n",
    "Phi = Function('Phi')(x, t)\n",
    "U = Function('U')(x, t)\n",
    "\n",
    "# Define derivatives\n",
    "D_psi_t = Derivative(psi, t)\n",
    "D_chi_t = Derivative(chi, t)\n",
    "D_chi_x = Derivative(chi, x)\n",
    "D2_chi_x = Derivative(chi, x, x)\n",
    "\n",
    "# Define the momentum operator as a quantum mechanical operator\n",
    "p = -I * Derivative(psi, x)\n",
    "\n",
    "# Original Hamiltonian H\n",
    "H = (1 / (2 * m)) * (p - q * A)**2 + q * Phi + U\n",
    "\n",
    "# Gauge transformed Hamiltonian H'\n",
    "H_prime = H + (1/(2*m)) * (-I * D2_chi_x - I * q * (D_chi_x * A + A * D_chi_x) + q**2 * D_chi_x**2) - q * (A * D_chi_x + D_chi_t)\n",
    "\n",
    "# Apply the Hamiltonians to the wave functions\n",
    "H_psi = H * psi\n",
    "psi_prime = exp(I * q * chi) * psi\n",
    "H_prime_psi_prime = H_prime * psi_prime\n",
    "\n",
    "# Relation from the theorem\n",
    "lhs = -q * D_chi_t * psi\n",
    "rhs = exp(-I * q * chi) * H_prime_psi_prime - H_psi\n",
    "\n",
    "rhs_simplified = simplify(rhs)\n",
    "print(latex(rhs_simplified))"
   ]
  }
 ],
 "metadata": {
  "kernelspec": {
   "display_name": "pyscf_env",
   "language": "python",
   "name": "python3"
  },
  "language_info": {
   "codemirror_mode": {
    "name": "ipython",
    "version": 3
   },
   "file_extension": ".py",
   "mimetype": "text/x-python",
   "name": "python",
   "nbconvert_exporter": "python",
   "pygments_lexer": "ipython3",
   "version": "3.8.17"
  }
 },
 "nbformat": 4,
 "nbformat_minor": 2
}
